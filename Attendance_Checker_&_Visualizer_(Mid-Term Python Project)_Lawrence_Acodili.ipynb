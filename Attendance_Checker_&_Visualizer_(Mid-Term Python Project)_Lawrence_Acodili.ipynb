{
 "cells": [
  {
   "cell_type": "code",
   "execution_count": 491,
   "id": "931a4030",
   "metadata": {
    "scrolled": true
   },
   "outputs": [
    {
     "name": "stdout",
     "output_type": "stream",
     "text": [
      "11:36 AM\n",
      "11:39 AM\n",
      "07:03 PM\n",
      "Hello!\n",
      "Welcome!\n",
      "Please fill up your name,\n",
      "Enter your Full name (e.g Dela Cruz, Juan G.): Adia, Paul J.\n",
      "Nice to meet you, Paul J.!\n",
      "Enter Course (BSCS/BSIT/BSEMC): BSCS\n",
      "Enter Year Level (1-4): 1\n",
      "What do you want to do?\n",
      "Type 'Clock In' if you want to clock in.\n",
      "Type 'Clock Out' if you want to clock out.\n",
      "Type 'Exit' if you want to exit.\n",
      "Enter Action: Clock In\n",
      "Please type \"IN\" to Clock In : in\n",
      "CLOCKED IN!\n",
      "What's Next?\n",
      "What do you want to do?\n",
      "Type 'Clock In' if you want to clock in.\n",
      "Type 'Clock Out' if you want to clock out.\n",
      "Type 'Exit' if you want to exit.\n",
      "Enter Action: Exit\n",
      "Exiting...\n",
      "Finish!\n"
     ]
    }
   ],
   "source": [
    "import pandas as pd\n",
    "import csv\n",
    "import os\n",
    "import hvplot.pandas\n",
    "import datetime\n",
    "import holoviews as hv\n",
    "import re\n",
    "import shutil\n",
    "\n",
    "scheduled_time_start = datetime.time(11,36,0,0)\n",
    "scheduled_time_end = datetime.time(11,39,0,0)\n",
    "scheduled_time_start_str = scheduled_time_start.strftime('%I:%M %p')\n",
    "scheduled_time_end_str = scheduled_time_end.strftime('%I:%M %p')\n",
    "current_time = datetime.datetime.now().strftime('%I:%M %p')\n",
    "print (scheduled_time_start_str,scheduled_time_end_str, current_time,sep=\"\\n\")\n",
    "num = 1\n",
    "if current_time >= scheduled_time_start_str and current_time < scheduled_time_end_str:\n",
    "    print (\"Sorry, you can not perform attendance at this time\")\n",
    "    print (\"Please comeback again tomorrow!\")\n",
    "    print (\"Exiting\")\n",
    "    A_bool=False\n",
    "    print (\"Finish!\")\n",
    "    folder = 'D:/Jupyter CSV File/Weekly Datasets'\n",
    "    file_count = len(os.listdir(folder))\n",
    "    if file_count >= 9:\n",
    "        shutil.rmtree(folder)\n",
    "        os.mkdir(folder)\n",
    "    else:\n",
    "        if os.path.exists('D:/Jupyter CSV File/Weekly Datasets/counter.txt'):\n",
    "            with open('D:/Jupyter CSV File/Weekly Datasets/counter.txt','r') as f:\n",
    "                counter = int(f.read())\n",
    "        else:\n",
    "            counter = 1\n",
    "        daily_attendance = 'D:/Jupyter CSV File/Weekly Datasets/Day '+str(counter)+'.csv'\n",
    "        df_current_attendance = pd.read_csv('D:/Jupyter CSV File/weekly_attendance_check_list.csv')\n",
    "        df_current_attendance.to_csv(daily_attendance,index=False)\n",
    "        counter+=1\n",
    "        with open(\"D:/Jupyter CSV File/Weekly Datasets/counter.txt\", \"w\") as f:\n",
    "            f.write(str(counter))\n",
    "\n",
    "    \n",
    "\n",
    "    if os.path.exists('D:/Jupyter CSV File/weekly_attendance_check_list.csv') and os.path.exists('D:/Jupyter CSV File/flag.txt'):                 \n",
    "        os.remove('D:/Jupyter CSV File/weekly_attendance_check_list.csv')\n",
    "        os.remove('D:/Jupyter CSV File/flag.txt')\n",
    "    else:\n",
    "        pass\n",
    "else:\n",
    "\n",
    "    # FILE if-else\n",
    "    #=======================================================================================\n",
    "    #=======================================================================================\n",
    "    def create_file():\n",
    "        columns = [\"Attendee's Name\",\"Course\",\"Year Level\",'Clock In','Clock Out']\n",
    "        df = pd.DataFrame(columns=columns)\n",
    "        df = df.rename_axis('No.', axis=1)\n",
    "        df.to_csv('D:/Jupyter CSV File/weekly_attendance_check_list.csv',index=False)\n",
    "\n",
    "\n",
    "    if os.path.isfile(\"D:/Jupyter CSV File/flag.txt\"):\n",
    "            pass\n",
    "    else:\n",
    "        open(\"D:/Jupyter CSV File/flag.txt\", 'a').close()\n",
    "        create_file()\n",
    "    #=======================================================================================\n",
    "    #=======================================================================================\n",
    "\n",
    "\n",
    "\n",
    "\n",
    "    #ATTTENDEES NAME if-else\n",
    "    #=======================================================================================\n",
    "    #=======================================================================================\n",
    "    def attendees_name(name_of_attendee):\n",
    "        last_index = len(df[[\"Attendee's Name\"]].index)\n",
    "        next_index = last_index\n",
    "        df.loc[next_index,\"Attendee's Name\"] = name_of_attendee\n",
    "        df.to_csv('D:/Jupyter CSV File/weekly_attendance_check_list.csv',index=False)\n",
    "    #=======================================================================================\n",
    "    #=======================================================================================\n",
    "    \n",
    "    \n",
    "    \n",
    "    \n",
    "    \n",
    "    #ATTTENDEES STUDENT INFO if-else\n",
    "    #=======================================================================================\n",
    "    #=======================================================================================\n",
    "    def attendee_student_info():\n",
    "        while True:\n",
    "            attendee_course = input(\"Enter Course (BSCS/BSIT/BSEMC): \")\n",
    "            coursere = re.match(\"^BSCS$|^BSIT$|^BSEMC$|\",attendee_course)\n",
    "            if coursere and attendee_course.isupper():\n",
    "                last_index1 = len(df[\"Course\"].index)-1\n",
    "                next_index1 = last_index1\n",
    "                df.loc[next_index1,'Course'] = attendee_course\n",
    "                df.to_csv('D:/Jupyter CSV File/weekly_attendance_check_list.csv',index=False)\n",
    "                break\n",
    "            else:\n",
    "                print (\"Invalid Action,\\nPlease try in UPPERCASE and try again.\")\n",
    "        while True:\n",
    "            attendee_yrlvl = input(\"Enter Year Level (1-4): \")\n",
    "            yr_lvlre = re.search(\"1|2|3|4\",attendee_yrlvl)\n",
    "            if yr_lvlre:\n",
    "                last_index1 = len(df[\"Year Level\"].index)-1\n",
    "                next_index1 = last_index1\n",
    "                if attendee_yrlvl == \"1\":\n",
    "                    df.loc[next_index1,'Year Level'] = attendee_yrlvl+\"st year\"\n",
    "                if attendee_yrlvl == \"2\":\n",
    "                    df.loc[next_index1,'Year Level'] = attendee_yrlvl+\"nd year\"\n",
    "                if attendee_yrlvl == \"3\":\n",
    "                    df.loc[next_index1,'Year Level'] = attendee_yrlvl+\"rd year\"\n",
    "                if attendee_yrlvl == \"4\":\n",
    "                    df.loc[next_index1,'Year Level'] = attendee_yrlvl+\"th year\"\n",
    "                df.to_csv('D:/Jupyter CSV File/weekly_attendance_check_list.csv',index=False)\n",
    "                break\n",
    "            else:\n",
    "                print (\"Invalid Action,\\nPlease Try Again.\")\n",
    "    #=======================================================================================\n",
    "    #=======================================================================================\n",
    "\n",
    "\n",
    "\n",
    "\n",
    "    \n",
    "    \n",
    "    #CLOCKING IN\n",
    "    #=======================================================================================\n",
    "    #=======================================================================================\n",
    "    def clock_in():\n",
    "        while True:\n",
    "            ask_clockin = input(\"Please type \\\"IN\\\" to Clock In : \")\n",
    "            clockinre = re.search(\"IN\", ask_clockin,re.IGNORECASE)\n",
    "            if clockinre:\n",
    "                if df[(df[\"Attendee's Name\"] == attendee_name) & (df['Clock In'])].empty:\n",
    "                    last_index1 = len(df[\"Clock In\"].index)-1\n",
    "                    next_index1 = last_index1\n",
    "                    df.loc[next_index1,'Clock In'] = current_time\n",
    "                    df.to_csv('D:/Jupyter CSV File/weekly_attendance_check_list.csv',index=False)\n",
    "                    print (\"CLOCKED IN!\")\n",
    "                else:\n",
    "                    clockin_data = df.loc[df[\"Attendee's Name\"] == attendee_name]\n",
    "                    mask = ((clockin_data['Clock In'] == current_time) | (clockin_data['Clock In'] == 'Not Yet'))\n",
    "                    if not df[(df[\"Attendee's Name\"] == attendee_name) & (df['Clock In'].notnull()) & (df['Clock In'] != 'Not Yet')].empty:\n",
    "                        print('You already Clocked In.')\n",
    "                    else:\n",
    "                        df.loc[df[\"Attendee's Name\"] == attendee_name, 'Clock In'] = current_time\n",
    "                        df.to_csv('D:/Jupyter CSV File/weekly_attendance_check_list.csv',index=False)\n",
    "                        print (\"CLOCKED IN!\")\n",
    "                break\n",
    "\n",
    "            else:\n",
    "                print (\"Invalid Action\")\n",
    "                print (\"Try Again\")\n",
    "\n",
    "    #=======================================================================================\n",
    "    #=======================================================================================\n",
    "\n",
    "\n",
    "\n",
    "    #=======================================================================================\n",
    "    #=======================================================================================\n",
    "    def clock_out():\n",
    "        while True:\n",
    "            ask_clockin = input(\"Please type \\\"OUT\\\" to Clock In : \")\n",
    "            clockoutre = re.search(\"OUT\", ask_clockin,re.IGNORECASE)\n",
    "            if clockoutre:\n",
    "                if df[(df[\"Attendee's Name\"] == attendee_name) & (df['Clock Out'])].empty:\n",
    "                    last_index1 = len(df[\"Clock Out\"].index)-1\n",
    "                    next_index1 = last_index1\n",
    "                    df.loc[next_index1,'Clock Out'] = current_time\n",
    "                    df.to_csv('D:/Jupyter CSV File/weekly_attendance_check_list.csv',index=False)\n",
    "                    print (\"CLOCKED OUT!\")\n",
    "                else:\n",
    "                    if (df.loc[df[\"Attendee's Name\"] == attendee_name, 'Clock Out'] == current_time).any():\n",
    "                        print('You already Clocked Out.')\n",
    "                    else:\n",
    "                        df.loc[df[\"Attendee's Name\"] == attendee_name, 'Clock Out'] = current_time\n",
    "                        df.to_csv('D:/Jupyter CSV File/weekly_attendance_check_list.csv',index=False)\n",
    "                        print (\"CLOCKED OUT!\")\n",
    "                break\n",
    "            else:\n",
    "                    print (\"Invalid Action\")\n",
    "                    print (\"Try Again\")\n",
    "\n",
    "    #=======================================================================================\n",
    "    #=======================================================================================\n",
    "    df = pd.read_csv('D:/Jupyter CSV File/weekly_attendance_check_list.csv')\n",
    "    main = pd.read_csv(\"D:/Jupyter CSV File/Student_Names.csv\")\n",
    "    print (\"Hello!\")\n",
    "    print (\"Welcome!\")\n",
    "    print (\"Please fill up your name,\")\n",
    "\n",
    "\n",
    "\n",
    "\n",
    "    A_bool=True\n",
    "    while A_bool:\n",
    "        attendee_name = input(\"Enter your Full name (e.g Dela Cruz, Juan G.): \")\n",
    "        if attendee_name in main[\"Attendee's Name\"].values:\n",
    "            namere = re.search(\"[A-Z].+,\\s[A-Z].+\\s[A-Z]\\.\",attendee_name)\n",
    "            if namere:\n",
    "                if attendee_name in df[\"Attendee's Name\"].values:\n",
    "                    nickname = attendee_name.split(\", \")\n",
    "                    print(\"Welcome back, \"+ nickname[1]+'!')\n",
    "                    attendee_rows = df.loc[(df[\"Attendee's Name\"] == attendee_name) & (df['Clock In'].notnull()) & (df['Clock Out'].notnull()) & (df['Clock In'] != 'Not Yet') & (df['Clock Out'] != 'Not Yet')]\n",
    "                    if not attendee_rows.empty:\n",
    "                        print (\"Already Completed the Attendance\")\n",
    "                        D_bool=True\n",
    "                        while D_bool:\n",
    "                            print (\"Please exit.\")\n",
    "                            act_ex = input(\"Enter Action: \")\n",
    "                            do_exre = re.search(\"EXIT\",act_ex,re.IGNORECASE)\n",
    "                            if do_exre:\n",
    "                                print (\"Exiting\")\n",
    "                                A_bool=False\n",
    "                                B_bool=False\n",
    "                                C_bool=False\n",
    "                                print (\"Finish!\")\n",
    "                                D_bool=False\n",
    "                            else:\n",
    "                                print (\"Invalid Action\")\n",
    "                                print (\"Please try again.\")\n",
    "                    else:\n",
    "                        B_bool=True\n",
    "                        while B_bool:\n",
    "                            C_bool=True\n",
    "                            while C_bool:\n",
    "                                print (\"What do you want to do?\")\n",
    "                                print (\"Type 'Clock In' if you want to clock in.\")\n",
    "                                print (\"Type 'Clock Out' if you want to clock out.\")\n",
    "                                print (\"Type 'Exit' if you want to exit.\")\n",
    "                                act = input(\"Enter Action: \")\n",
    "                                do_in = re.search(\"CLOCK IN\",act,re.IGNORECASE)\n",
    "                                do_out = re.search(\"CLOCK OUT\",act,re.IGNORECASE)\n",
    "                                do_exit = re.search(\"EXIT\",act,re.IGNORECASE)\n",
    "                                if do_in:\n",
    "                                    clock_in()\n",
    "                                    C_bool=False\n",
    "                                elif do_out:\n",
    "                                    if df[(df[\"Attendee's Name\"] == attendee_name) & (df['Clock In'].notnull()) & (df['Clock In'] != 'Not Yet')].empty:\n",
    "                                        print (\"Cannot clock out.\")\n",
    "                                        print (\"You must clock in first.\")\n",
    "                                    else:\n",
    "                                        clock_out()\n",
    "                                        C_bool=False\n",
    "                                elif do_exit:\n",
    "                                    print (\"Exiting...\")\n",
    "                                    df = pd.read_csv('D:/Jupyter CSV File/weekly_attendance_check_list.csv')\n",
    "                                    df.fillna('Not Yet', inplace=True)\n",
    "                                    df.to_csv('D:/Jupyter CSV File/weekly_attendance_check_list.csv', index=False)\n",
    "                                    A_bool=False\n",
    "                                    B_bool=False\n",
    "                                    C_bool=False\n",
    "                                    print (\"Finish!\")\n",
    "                                else:\n",
    "                                    print (\"Invalid Action\")\n",
    "                                    print (\"Try Again\")\n",
    "                            if B_bool==True:\n",
    "                                print (\"What's Next?\")\n",
    "                            else:\n",
    "                                pass\n",
    "\n",
    "\n",
    "\n",
    "                else:\n",
    "                    nickname = attendee_name.split(\", \")\n",
    "\n",
    "                    print(\"Nice to meet you, \"+nickname[1]+\"!\")\n",
    "                    attendees_name(attendee_name)\n",
    "                    attendee_student_info()\n",
    "                    B_bool=True\n",
    "                    while B_bool:\n",
    "                        C_bool=True\n",
    "                        while C_bool:\n",
    "                            print (\"What do you want to do?\")\n",
    "                            print (\"Type 'Clock In' if you want to clock in.\")\n",
    "                            print (\"Type 'Clock Out' if you want to clock out.\")\n",
    "                            print (\"Type 'Exit' if you want to exit.\")\n",
    "                            act = input(\"Enter Action: \")\n",
    "                            do_in = re.search(\"CLOCK IN\",act,re.IGNORECASE)\n",
    "                            do_out = re.search(\"CLOCK OUT\",act,re.IGNORECASE)\n",
    "                            do_exit = re.search(\"EXIT\",act,re.IGNORECASE)\n",
    "                            if do_in:\n",
    "                                clock_in()\n",
    "                                C_bool=False\n",
    "                            elif do_out:\n",
    "                                if df[(df[\"Attendee's Name\"] == attendee_name) & (df['Clock In'])].empty:\n",
    "                                    print (\"Cannot clock out.\")\n",
    "                                    print (\"YOu must clock in first.\")\n",
    "                                else:\n",
    "                                    clock_out()\n",
    "                                    C_bool=False\n",
    "                            elif do_exit:\n",
    "                                print (\"Exiting...\")\n",
    "                                df = pd.read_csv('D:/Jupyter CSV File/weekly_attendance_check_list.csv')\n",
    "                                df.fillna(\"Not Yet\", inplace=True)\n",
    "                                df.to_csv('D:/Jupyter CSV File/weekly_attendance_check_list.csv', index=False)\n",
    "                                A_bool=False\n",
    "                                B_bool=False\n",
    "                                C_bool=False\n",
    "                                print (\"Finish!\")\n",
    "                            else:\n",
    "                                print (\"Invalid Action\")\n",
    "                                print (\"Try Again\")\n",
    "                        if B_bool==True:\n",
    "                            print (\"What's Next?\")\n",
    "                        else:\n",
    "                            pass\n",
    "\n",
    "            else:\n",
    "                print (\"Invalid Name\")\n",
    "                print (\"Try Again\")\n",
    "        else:\n",
    "            print (\"Student not enrolled.\")"
   ]
  },
  {
   "cell_type": "markdown",
   "id": "3c2d5081",
   "metadata": {},
   "source": [
    "# 1.) Display the Live/Ongoing Attendance Sheet"
   ]
  },
  {
   "cell_type": "code",
   "execution_count": 495,
   "id": "4b3f8090",
   "metadata": {
    "scrolled": true
   },
   "outputs": [
    {
     "data": {},
     "metadata": {},
     "output_type": "display_data"
    },
    {
     "data": {
      "application/vnd.holoviews_exec.v0+json": "",
      "text/html": [
       "<div id='15043'>\n",
       "  <div class=\"bk-root\" id=\"8344a903-de20-4cb4-88f1-d1f498d9fe46\" data-root-id=\"15043\"></div>\n",
       "</div>\n",
       "<script type=\"application/javascript\">(function(root) {\n",
       "  function embed_document(root) {\n",
       "    var docs_json = {\"8880dfbc-fd99-4b2c-b157-faa0d16f0ce3\":{\"defs\":[{\"extends\":null,\"module\":null,\"name\":\"ReactiveHTML1\",\"overrides\":[],\"properties\":[]},{\"extends\":null,\"module\":null,\"name\":\"FlexBox1\",\"overrides\":[],\"properties\":[{\"default\":\"flex-start\",\"kind\":null,\"name\":\"align_content\"},{\"default\":\"flex-start\",\"kind\":null,\"name\":\"align_items\"},{\"default\":\"row\",\"kind\":null,\"name\":\"flex_direction\"},{\"default\":\"wrap\",\"kind\":null,\"name\":\"flex_wrap\"},{\"default\":\"flex-start\",\"kind\":null,\"name\":\"justify_content\"}]},{\"extends\":null,\"module\":null,\"name\":\"GridStack1\",\"overrides\":[],\"properties\":[{\"default\":\"warn\",\"kind\":null,\"name\":\"mode\"},{\"default\":null,\"kind\":null,\"name\":\"ncols\"},{\"default\":null,\"kind\":null,\"name\":\"nrows\"},{\"default\":true,\"kind\":null,\"name\":\"allow_resize\"},{\"default\":true,\"kind\":null,\"name\":\"allow_drag\"},{\"default\":[],\"kind\":null,\"name\":\"state\"}]},{\"extends\":null,\"module\":null,\"name\":\"click1\",\"overrides\":[],\"properties\":[{\"default\":\"\",\"kind\":null,\"name\":\"terminal_output\"},{\"default\":\"\",\"kind\":null,\"name\":\"debug_name\"},{\"default\":0,\"kind\":null,\"name\":\"clears\"}]},{\"extends\":null,\"module\":null,\"name\":\"NotificationAreaBase1\",\"overrides\":[],\"properties\":[{\"default\":\"bottom-right\",\"kind\":null,\"name\":\"position\"},{\"default\":0,\"kind\":null,\"name\":\"_clear\"}]},{\"extends\":null,\"module\":null,\"name\":\"NotificationArea1\",\"overrides\":[],\"properties\":[{\"default\":[],\"kind\":null,\"name\":\"notifications\"},{\"default\":\"bottom-right\",\"kind\":null,\"name\":\"position\"},{\"default\":0,\"kind\":null,\"name\":\"_clear\"},{\"default\":[{\"background\":\"#ffc107\",\"icon\":{\"className\":\"fas fa-exclamation-triangle\",\"color\":\"white\",\"tagName\":\"i\"},\"type\":\"warning\"},{\"background\":\"#007bff\",\"icon\":{\"className\":\"fas fa-info-circle\",\"color\":\"white\",\"tagName\":\"i\"},\"type\":\"info\"}],\"kind\":null,\"name\":\"types\"}]},{\"extends\":null,\"module\":null,\"name\":\"Notification\",\"overrides\":[],\"properties\":[{\"default\":null,\"kind\":null,\"name\":\"background\"},{\"default\":3000,\"kind\":null,\"name\":\"duration\"},{\"default\":null,\"kind\":null,\"name\":\"icon\"},{\"default\":\"\",\"kind\":null,\"name\":\"message\"},{\"default\":null,\"kind\":null,\"name\":\"notification_type\"},{\"default\":false,\"kind\":null,\"name\":\"_destroyed\"}]},{\"extends\":null,\"module\":null,\"name\":\"TemplateActions1\",\"overrides\":[],\"properties\":[{\"default\":0,\"kind\":null,\"name\":\"open_modal\"},{\"default\":0,\"kind\":null,\"name\":\"close_modal\"}]},{\"extends\":null,\"module\":null,\"name\":\"MaterialTemplateActions1\",\"overrides\":[],\"properties\":[{\"default\":0,\"kind\":null,\"name\":\"open_modal\"},{\"default\":0,\"kind\":null,\"name\":\"close_modal\"}]}],\"roots\":{\"references\":[{\"attributes\":{},\"id\":\"15068\",\"type\":\"StringEditor\"},{\"attributes\":{\"margin\":[5,5,5,5],\"name\":\"HSpacer17377\",\"sizing_mode\":\"stretch_width\"},\"id\":\"15044\",\"type\":\"Spacer\"},{\"attributes\":{\"editor\":{\"id\":\"15068\"},\"field\":\"Clock_Out\",\"formatter\":{\"id\":\"15067\"},\"title\":\"Clock Out\"},\"id\":\"15069\",\"type\":\"TableColumn\"},{\"attributes\":{\"children\":[{\"id\":\"15044\"},{\"id\":\"15072\"},{\"id\":\"15077\"}],\"margin\":[0,0,0,0],\"name\":\"Row17373\",\"tags\":[\"embedded\"]},\"id\":\"15043\",\"type\":\"Row\"},{\"attributes\":{},\"id\":\"15053\",\"type\":\"StringEditor\"},{\"attributes\":{},\"id\":\"15052\",\"type\":\"StringFormatter\"},{\"attributes\":{},\"id\":\"15048\",\"type\":\"StringEditor\"},{\"attributes\":{},\"id\":\"15047\",\"type\":\"StringFormatter\"},{\"attributes\":{},\"id\":\"15057\",\"type\":\"StringFormatter\"},{\"attributes\":{\"editor\":{\"id\":\"15048\"},\"field\":\"Attendee_apostrophe_s_Name\",\"formatter\":{\"id\":\"15047\"},\"title\":\"Attendee's Name\"},\"id\":\"15049\",\"type\":\"TableColumn\"},{\"attributes\":{\"data\":{\"Attendee_apostrophe_s_Name\":[\"Acodili, Lawrence T.\",\"Adia, Paul J.\"],\"Clock_In\":[\"07:02 PM\",\"07:03 PM\"],\"Clock_Out\":[\"Not Yet\",\"Not Yet\"],\"Course\":[\"BSCS\",\"BSCS\"],\"Year_Level\":[\"1st year\",\"1st year\"]},\"selected\":{\"id\":\"15046\"},\"selection_policy\":{\"id\":\"15075\"}},\"id\":\"15045\",\"type\":\"ColumnDataSource\"},{\"attributes\":{\"columns\":[{\"id\":\"15049\"},{\"id\":\"15054\"},{\"id\":\"15059\"},{\"id\":\"15064\"},{\"id\":\"15069\"}],\"height\":300,\"reorderable\":false,\"source\":{\"id\":\"15045\"},\"view\":{\"id\":\"15074\"},\"width\":700},\"id\":\"15072\",\"type\":\"DataTable\"},{\"attributes\":{},\"id\":\"15075\",\"type\":\"UnionRenderers\"},{\"attributes\":{},\"id\":\"15062\",\"type\":\"StringFormatter\"},{\"attributes\":{},\"id\":\"15067\",\"type\":\"StringFormatter\"},{\"attributes\":{\"source\":{\"id\":\"15045\"}},\"id\":\"15074\",\"type\":\"CDSView\"},{\"attributes\":{\"editor\":{\"id\":\"15053\"},\"field\":\"Course\",\"formatter\":{\"id\":\"15052\"},\"title\":\"Course\"},\"id\":\"15054\",\"type\":\"TableColumn\"},{\"attributes\":{\"margin\":[5,5,5,5],\"name\":\"HSpacer17378\",\"sizing_mode\":\"stretch_width\"},\"id\":\"15077\",\"type\":\"Spacer\"},{\"attributes\":{},\"id\":\"15058\",\"type\":\"StringEditor\"},{\"attributes\":{\"editor\":{\"id\":\"15058\"},\"field\":\"Year_Level\",\"formatter\":{\"id\":\"15057\"},\"title\":\"Year Level\"},\"id\":\"15059\",\"type\":\"TableColumn\"},{\"attributes\":{},\"id\":\"15063\",\"type\":\"StringEditor\"},{\"attributes\":{\"editor\":{\"id\":\"15063\"},\"field\":\"Clock_In\",\"formatter\":{\"id\":\"15062\"},\"title\":\"Clock In\"},\"id\":\"15064\",\"type\":\"TableColumn\"},{\"attributes\":{},\"id\":\"15046\",\"type\":\"Selection\"}],\"root_ids\":[\"15043\"]},\"title\":\"Bokeh Application\",\"version\":\"2.4.3\"}};\n",
       "    var render_items = [{\"docid\":\"8880dfbc-fd99-4b2c-b157-faa0d16f0ce3\",\"root_ids\":[\"15043\"],\"roots\":{\"15043\":\"8344a903-de20-4cb4-88f1-d1f498d9fe46\"}}];\n",
       "    root.Bokeh.embed.embed_items_notebook(docs_json, render_items);\n",
       "  }\n",
       "  if (root.Bokeh !== undefined && root.Bokeh.Panel !== undefined) {\n",
       "    embed_document(root);\n",
       "  } else {\n",
       "    var attempts = 0;\n",
       "    var timer = setInterval(function(root) {\n",
       "      if (root.Bokeh !== undefined && root.Bokeh.Panel !== undefined) {\n",
       "        clearInterval(timer);\n",
       "        embed_document(root);\n",
       "      } else if (document.readyState == \"complete\") {\n",
       "        attempts++;\n",
       "        if (attempts > 200) {\n",
       "          clearInterval(timer);\n",
       "          console.log(\"Bokeh: ERROR: Unable to run BokehJS code because BokehJS library is missing\");\n",
       "        }\n",
       "      }\n",
       "    }, 25, root)\n",
       "  }\n",
       "})(window);</script>"
      ],
      "text/plain": [
       ":Table   [Attendee's Name,Course,Year Level,Clock In,Clock Out]"
      ]
     },
     "execution_count": 495,
     "metadata": {
      "application/vnd.holoviews_exec.v0+json": {
       "id": "15043"
      }
     },
     "output_type": "execute_result"
    }
   ],
   "source": [
    "# 1. Display the live/ongoing attendace sheet\n",
    "df = pd.read_csv('D:/Jupyter CSV File/weekly_attendance_check_list.csv')\n",
    "df = df.sort_values(by=[\"Attendee's Name\"])\n",
    "df.index+=1\n",
    "df = df.rename_axis(\"No.\")\n",
    "df.hvplot.table(sortable=True)"
   ]
  },
  {
   "cell_type": "code",
   "execution_count": 353,
   "id": "1c357905",
   "metadata": {
    "scrolled": false
   },
   "outputs": [],
   "source": [
    "main = pd.read_csv(\"D:/Jupyter CSV File/Student_Names.csv\")\n",
    "df1 = pd.read_csv(\"D:/Jupyter CSV File/Weekly Datasets/Day 1.csv\")\n",
    "df2 = pd.read_csv(\"D:/Jupyter CSV File/Weekly Datasets/Day 2.csv\")\n",
    "df3 = pd.read_csv(\"D:/Jupyter CSV File/Weekly Datasets/Day 3.csv\")\n",
    "df4 = pd.read_csv(\"D:/Jupyter CSV File/Weekly Datasets/Day 4.csv\")\n",
    "df5 = pd.read_csv(\"D:/Jupyter CSV File/Weekly Datasets/Day 5.csv\")\n",
    "df6 = pd.read_csv(\"D:/Jupyter CSV File/Weekly Datasets/Day 6.csv\")\n",
    "df7 = pd.read_csv(\"D:/Jupyter CSV File/Weekly Datasets/Day 7.csv\")\n",
    "\n",
    "# 5 Display the TOP 5 Students who actively completed the attendance.\n"
   ]
  },
  {
   "cell_type": "markdown",
   "id": "0d83de74",
   "metadata": {},
   "source": [
    "# 2.) Open and Display the Total Number of Clock Ins and Clock Outs of an attendee within a week"
   ]
  },
  {
   "cell_type": "code",
   "execution_count": 324,
   "id": "843ac609",
   "metadata": {
    "scrolled": true
   },
   "outputs": [
    {
     "name": "stdout",
     "output_type": "stream",
     "text": [
      "Student: Elegado, Kynn L.\n",
      "Day 1: 1 clock in, 1 clock out\n",
      "Day 2: 1 clock in, 1 clock out\n",
      "Day 3: 1 clock in, 1 clock out\n",
      "Day 4: 1 clock in, 1 clock out\n",
      "Day 5: 1 clock in, 1 clock out\n",
      "Day 6: 1 clock in, 1 clock out\n",
      "Day 7: No clock in, No Clock Out\n",
      "\n",
      "Total count of Clock Ins: 6 out of 7.\n",
      "Total count of Clock Outs: 6 out of 7.\n"
     ]
    }
   ],
   "source": [
    "# 2. Open and display the total number of clock ins  and clock outs of an attendee/student within a week\n",
    "\n",
    "name = 'Elegado, Kynn L.'\n",
    "total_countin = 0\n",
    "total_countout = 0\n",
    "print (\"Student: \" + name)\n",
    "for i in range(1, 8):\n",
    "    file_name = \"D:/Jupyter CSV File/Weekly Datasets/Day \"+str(i)+\".csv\"\n",
    "    df = pd.read_csv(file_name)\n",
    "    maskin = (df[\"Attendee's Name\"] == name) & (df['Clock In'].notnull() & (df['Clock In'] != \"Not Yet\"))\n",
    "    maskout = (df[\"Attendee's Name\"] == name) & (df['Clock Out'].notnull() & (df['Clock Out'] != \"Not Yet\"))\n",
    "    count = maskin.sum()\n",
    "    countout = maskout.sum()\n",
    "    total_countin += count\n",
    "    total_countout += countout\n",
    "    if count > 0:\n",
    "        print(f\"Day {i}: {count} clock in, {countout} clock out\")\n",
    "    else:\n",
    "        print(f\"Day {i}: No clock in, No Clock Out\")\n",
    "        \n",
    "print ()\n",
    "print(f\"Total count of Clock Ins: {total_countin} out of 7.\")\n",
    "print(f\"Total count of Clock Outs: {total_countout} out of 7.\")\n",
    "\n",
    "\n",
    "\n"
   ]
  },
  {
   "cell_type": "markdown",
   "id": "efe49da5",
   "metadata": {},
   "source": [
    "# 3.) Display the Total Number of Students attended within a Day using Table."
   ]
  },
  {
   "cell_type": "code",
   "execution_count": 489,
   "id": "9444e255",
   "metadata": {
    "scrolled": true
   },
   "outputs": [
    {
     "name": "stdout",
     "output_type": "stream",
     "text": [
      "Total Students who Attended: 10 Students\n"
     ]
    },
    {
     "data": {},
     "metadata": {},
     "output_type": "display_data"
    },
    {
     "data": {
      "application/vnd.holoviews_exec.v0+json": "",
      "text/html": [
       "<div id='14643'>\n",
       "  <div class=\"bk-root\" id=\"4320a84d-4262-452f-adce-1773693d1366\" data-root-id=\"14643\"></div>\n",
       "</div>\n",
       "<script type=\"application/javascript\">(function(root) {\n",
       "  function embed_document(root) {\n",
       "    var docs_json = {\"203f0544-8eca-41b6-a08e-cc1bd30673db\":{\"defs\":[{\"extends\":null,\"module\":null,\"name\":\"ReactiveHTML1\",\"overrides\":[],\"properties\":[]},{\"extends\":null,\"module\":null,\"name\":\"FlexBox1\",\"overrides\":[],\"properties\":[{\"default\":\"flex-start\",\"kind\":null,\"name\":\"align_content\"},{\"default\":\"flex-start\",\"kind\":null,\"name\":\"align_items\"},{\"default\":\"row\",\"kind\":null,\"name\":\"flex_direction\"},{\"default\":\"wrap\",\"kind\":null,\"name\":\"flex_wrap\"},{\"default\":\"flex-start\",\"kind\":null,\"name\":\"justify_content\"}]},{\"extends\":null,\"module\":null,\"name\":\"GridStack1\",\"overrides\":[],\"properties\":[{\"default\":\"warn\",\"kind\":null,\"name\":\"mode\"},{\"default\":null,\"kind\":null,\"name\":\"ncols\"},{\"default\":null,\"kind\":null,\"name\":\"nrows\"},{\"default\":true,\"kind\":null,\"name\":\"allow_resize\"},{\"default\":true,\"kind\":null,\"name\":\"allow_drag\"},{\"default\":[],\"kind\":null,\"name\":\"state\"}]},{\"extends\":null,\"module\":null,\"name\":\"click1\",\"overrides\":[],\"properties\":[{\"default\":\"\",\"kind\":null,\"name\":\"terminal_output\"},{\"default\":\"\",\"kind\":null,\"name\":\"debug_name\"},{\"default\":0,\"kind\":null,\"name\":\"clears\"}]},{\"extends\":null,\"module\":null,\"name\":\"NotificationAreaBase1\",\"overrides\":[],\"properties\":[{\"default\":\"bottom-right\",\"kind\":null,\"name\":\"position\"},{\"default\":0,\"kind\":null,\"name\":\"_clear\"}]},{\"extends\":null,\"module\":null,\"name\":\"NotificationArea1\",\"overrides\":[],\"properties\":[{\"default\":[],\"kind\":null,\"name\":\"notifications\"},{\"default\":\"bottom-right\",\"kind\":null,\"name\":\"position\"},{\"default\":0,\"kind\":null,\"name\":\"_clear\"},{\"default\":[{\"background\":\"#ffc107\",\"icon\":{\"className\":\"fas fa-exclamation-triangle\",\"color\":\"white\",\"tagName\":\"i\"},\"type\":\"warning\"},{\"background\":\"#007bff\",\"icon\":{\"className\":\"fas fa-info-circle\",\"color\":\"white\",\"tagName\":\"i\"},\"type\":\"info\"}],\"kind\":null,\"name\":\"types\"}]},{\"extends\":null,\"module\":null,\"name\":\"Notification\",\"overrides\":[],\"properties\":[{\"default\":null,\"kind\":null,\"name\":\"background\"},{\"default\":3000,\"kind\":null,\"name\":\"duration\"},{\"default\":null,\"kind\":null,\"name\":\"icon\"},{\"default\":\"\",\"kind\":null,\"name\":\"message\"},{\"default\":null,\"kind\":null,\"name\":\"notification_type\"},{\"default\":false,\"kind\":null,\"name\":\"_destroyed\"}]},{\"extends\":null,\"module\":null,\"name\":\"TemplateActions1\",\"overrides\":[],\"properties\":[{\"default\":0,\"kind\":null,\"name\":\"open_modal\"},{\"default\":0,\"kind\":null,\"name\":\"close_modal\"}]},{\"extends\":null,\"module\":null,\"name\":\"MaterialTemplateActions1\",\"overrides\":[],\"properties\":[{\"default\":0,\"kind\":null,\"name\":\"open_modal\"},{\"default\":0,\"kind\":null,\"name\":\"close_modal\"}]}],\"roots\":{\"references\":[{\"attributes\":{\"children\":[{\"id\":\"14644\"},{\"id\":\"14661\"},{\"id\":\"14664\"}],\"margin\":[0,0,0,0],\"name\":\"Row16899\",\"tags\":[\"embedded\"]},\"id\":\"14643\",\"type\":\"Row\"},{\"attributes\":{},\"id\":\"14653\",\"type\":\"IntEditor\"},{\"attributes\":{\"editor\":{\"id\":\"14648\"},\"field\":\"Attendee_apostrophe_s_Name\",\"formatter\":{\"id\":\"14647\"},\"title\":\"Attendee's Name\"},\"id\":\"14649\",\"type\":\"TableColumn\"},{\"attributes\":{\"columns\":[{\"id\":\"14649\"},{\"id\":\"14654\"}],\"height\":300,\"reorderable\":false,\"source\":{\"id\":\"14645\"},\"view\":{\"id\":\"14659\"},\"width\":700},\"id\":\"14657\",\"type\":\"DataTable\"},{\"attributes\":{\"source\":{\"id\":\"14645\"}},\"id\":\"14659\",\"type\":\"CDSView\"},{\"attributes\":{\"data\":{\"Attendee_apostrophe_s_Name\":[\"Acodili, Lawrence T.\",\"Adia, Paul J.\",\"Caguioa, Thirdy F.\",\"Catalla, Johann S.\",\"Cerillo, Marideine C.\",\"Dantes, Peter A.\",\"Echevaria, John Leo D.\",\"Elegado, Kynn L.\",\"Gayon, Darrex A.\",\"Layosa, Ian G.\"],\"attendance\":[1,1,1,1,1,1,1,1,1,1]},\"selected\":{\"id\":\"14646\"},\"selection_policy\":{\"id\":\"14662\"}},\"id\":\"14645\",\"type\":\"ColumnDataSource\"},{\"attributes\":{\"editor\":{\"id\":\"14653\"},\"field\":\"attendance\",\"formatter\":{\"id\":\"14652\"},\"title\":\"attendance\"},\"id\":\"14654\",\"type\":\"TableColumn\"},{\"attributes\":{\"children\":[{\"id\":\"14660\"},{\"id\":\"14657\"}]},\"id\":\"14661\",\"type\":\"Column\"},{\"attributes\":{\"margin\":[5,5,5,5],\"name\":\"HSpacer16903\",\"sizing_mode\":\"stretch_width\"},\"id\":\"14644\",\"type\":\"Spacer\"},{\"attributes\":{\"style\":{\"white-space\":\"nowrap\"},\"text\":\"<span style=\\\"color:black;font-family:Arial;font-style:bold;font-weight:bold;font-size:12pt\\\">Total Number of Students attended within a Day 1</span>\",\"width\":450},\"id\":\"14660\",\"type\":\"Div\"},{\"attributes\":{},\"id\":\"14662\",\"type\":\"UnionRenderers\"},{\"attributes\":{},\"id\":\"14648\",\"type\":\"StringEditor\"},{\"attributes\":{},\"id\":\"14646\",\"type\":\"Selection\"},{\"attributes\":{},\"id\":\"14647\",\"type\":\"StringFormatter\"},{\"attributes\":{\"margin\":[5,5,5,5],\"name\":\"HSpacer16904\",\"sizing_mode\":\"stretch_width\"},\"id\":\"14664\",\"type\":\"Spacer\"},{\"attributes\":{},\"id\":\"14652\",\"type\":\"NumberFormatter\"}],\"root_ids\":[\"14643\"]},\"title\":\"Bokeh Application\",\"version\":\"2.4.3\"}};\n",
       "    var render_items = [{\"docid\":\"203f0544-8eca-41b6-a08e-cc1bd30673db\",\"root_ids\":[\"14643\"],\"roots\":{\"14643\":\"4320a84d-4262-452f-adce-1773693d1366\"}}];\n",
       "    root.Bokeh.embed.embed_items_notebook(docs_json, render_items);\n",
       "  }\n",
       "  if (root.Bokeh !== undefined && root.Bokeh.Panel !== undefined) {\n",
       "    embed_document(root);\n",
       "  } else {\n",
       "    var attempts = 0;\n",
       "    var timer = setInterval(function(root) {\n",
       "      if (root.Bokeh !== undefined && root.Bokeh.Panel !== undefined) {\n",
       "        clearInterval(timer);\n",
       "        embed_document(root);\n",
       "      } else if (document.readyState == \"complete\") {\n",
       "        attempts++;\n",
       "        if (attempts > 200) {\n",
       "          clearInterval(timer);\n",
       "          console.log(\"Bokeh: ERROR: Unable to run BokehJS code because BokehJS library is missing\");\n",
       "        }\n",
       "      }\n",
       "    }, 25, root)\n",
       "  }\n",
       "})(window);</script>"
      ],
      "text/plain": [
       ":Table   [Attendee's Name,attendance]"
      ]
     },
     "execution_count": 489,
     "metadata": {
      "application/vnd.holoviews_exec.v0+json": {
       "id": "14643"
      }
     },
     "output_type": "execute_result"
    }
   ],
   "source": [
    "# 3. Display the Total Number of Students attended within a Day using Table.\n",
    "\n",
    "main = pd.read_csv(\"D:/Jupyter CSV File/Student_Names.csv\")\n",
    "df = pd.read_csv(\"D:/Jupyter CSV File/Weekly Datasets/Day 1.csv\")\n",
    "\n",
    "# Filter the rows where Age and Gender are not \"Not Yet\"\n",
    "filtered_df = df.loc[(df['Clock In'] != \"Not Yet\") & (df['Clock Out'] != \"Not Yet\")]\n",
    "\n",
    "# Group the filtered rows by Name and count the number of rows for each group\n",
    "grouped_df = filtered_df.groupby(\"Attendee's Name\").size().reset_index(name='attendance')\n",
    "\n",
    "# Filter the resulting dataframe to only include rows where count is greater than 0\n",
    "result_df = grouped_df.loc[grouped_df['attendance'] > 0]\n",
    "result_df.index+=1\n",
    "# Print the final result\n",
    "print (\"Total Students who Attended:\",len(result_df),\"Students\")\n",
    "result_df.hvplot.table(title=\"Total Number of Students attended within a Day 1\",color=\"red\")\n",
    "\n",
    "\n",
    "\n"
   ]
  },
  {
   "cell_type": "markdown",
   "id": "5159a49b",
   "metadata": {},
   "source": [
    "# 4.) Display the Total Number of Students bases on Course Types using Horizontal Bar Chart."
   ]
  },
  {
   "cell_type": "code",
   "execution_count": 488,
   "id": "25ccdffe",
   "metadata": {
    "scrolled": false
   },
   "outputs": [
    {
     "data": {},
     "metadata": {},
     "output_type": "display_data"
    },
    {
     "data": {
      "application/vnd.holoviews_exec.v0+json": "",
      "text/html": [
       "<div id='14532'>\n",
       "  <div class=\"bk-root\" id=\"3586dc83-2aa8-494e-8a88-69613fb1c062\" data-root-id=\"14532\"></div>\n",
       "</div>\n",
       "<script type=\"application/javascript\">(function(root) {\n",
       "  function embed_document(root) {\n",
       "    var docs_json = {\"e2111a46-ce16-40c7-ac64-f68ead633b39\":{\"defs\":[{\"extends\":null,\"module\":null,\"name\":\"ReactiveHTML1\",\"overrides\":[],\"properties\":[]},{\"extends\":null,\"module\":null,\"name\":\"FlexBox1\",\"overrides\":[],\"properties\":[{\"default\":\"flex-start\",\"kind\":null,\"name\":\"align_content\"},{\"default\":\"flex-start\",\"kind\":null,\"name\":\"align_items\"},{\"default\":\"row\",\"kind\":null,\"name\":\"flex_direction\"},{\"default\":\"wrap\",\"kind\":null,\"name\":\"flex_wrap\"},{\"default\":\"flex-start\",\"kind\":null,\"name\":\"justify_content\"}]},{\"extends\":null,\"module\":null,\"name\":\"GridStack1\",\"overrides\":[],\"properties\":[{\"default\":\"warn\",\"kind\":null,\"name\":\"mode\"},{\"default\":null,\"kind\":null,\"name\":\"ncols\"},{\"default\":null,\"kind\":null,\"name\":\"nrows\"},{\"default\":true,\"kind\":null,\"name\":\"allow_resize\"},{\"default\":true,\"kind\":null,\"name\":\"allow_drag\"},{\"default\":[],\"kind\":null,\"name\":\"state\"}]},{\"extends\":null,\"module\":null,\"name\":\"click1\",\"overrides\":[],\"properties\":[{\"default\":\"\",\"kind\":null,\"name\":\"terminal_output\"},{\"default\":\"\",\"kind\":null,\"name\":\"debug_name\"},{\"default\":0,\"kind\":null,\"name\":\"clears\"}]},{\"extends\":null,\"module\":null,\"name\":\"NotificationAreaBase1\",\"overrides\":[],\"properties\":[{\"default\":\"bottom-right\",\"kind\":null,\"name\":\"position\"},{\"default\":0,\"kind\":null,\"name\":\"_clear\"}]},{\"extends\":null,\"module\":null,\"name\":\"NotificationArea1\",\"overrides\":[],\"properties\":[{\"default\":[],\"kind\":null,\"name\":\"notifications\"},{\"default\":\"bottom-right\",\"kind\":null,\"name\":\"position\"},{\"default\":0,\"kind\":null,\"name\":\"_clear\"},{\"default\":[{\"background\":\"#ffc107\",\"icon\":{\"className\":\"fas fa-exclamation-triangle\",\"color\":\"white\",\"tagName\":\"i\"},\"type\":\"warning\"},{\"background\":\"#007bff\",\"icon\":{\"className\":\"fas fa-info-circle\",\"color\":\"white\",\"tagName\":\"i\"},\"type\":\"info\"}],\"kind\":null,\"name\":\"types\"}]},{\"extends\":null,\"module\":null,\"name\":\"Notification\",\"overrides\":[],\"properties\":[{\"default\":null,\"kind\":null,\"name\":\"background\"},{\"default\":3000,\"kind\":null,\"name\":\"duration\"},{\"default\":null,\"kind\":null,\"name\":\"icon\"},{\"default\":\"\",\"kind\":null,\"name\":\"message\"},{\"default\":null,\"kind\":null,\"name\":\"notification_type\"},{\"default\":false,\"kind\":null,\"name\":\"_destroyed\"}]},{\"extends\":null,\"module\":null,\"name\":\"TemplateActions1\",\"overrides\":[],\"properties\":[{\"default\":0,\"kind\":null,\"name\":\"open_modal\"},{\"default\":0,\"kind\":null,\"name\":\"close_modal\"}]},{\"extends\":null,\"module\":null,\"name\":\"MaterialTemplateActions1\",\"overrides\":[],\"properties\":[{\"default\":0,\"kind\":null,\"name\":\"open_modal\"},{\"default\":0,\"kind\":null,\"name\":\"close_modal\"}]}],\"roots\":{\"references\":[{\"attributes\":{\"axis\":{\"id\":\"14546\"},\"coordinates\":null,\"grid_line_color\":null,\"group\":null,\"ticker\":null},\"id\":\"14549\",\"type\":\"Grid\"},{\"attributes\":{},\"id\":\"14588\",\"type\":\"UnionRenderers\"},{\"attributes\":{},\"id\":\"14567\",\"type\":\"Selection\"},{\"attributes\":{},\"id\":\"14547\",\"type\":\"BasicTicker\"},{\"attributes\":{},\"id\":\"14555\",\"type\":\"WheelZoomTool\"},{\"attributes\":{\"axis_label\":\"Course\",\"coordinates\":null,\"formatter\":{\"id\":\"14579\"},\"group\":null,\"major_label_policy\":{\"id\":\"14580\"},\"ticker\":{\"id\":\"14551\"}},\"id\":\"14550\",\"type\":\"CategoricalAxis\"},{\"attributes\":{\"fill_alpha\":{\"value\":0.1},\"fill_color\":{\"value\":\"maroon\"},\"hatch_alpha\":{\"value\":0.1},\"hatch_color\":{\"value\":\"maroon\"},\"height\":{\"value\":0.8},\"line_alpha\":{\"value\":0.1},\"right\":{\"field\":\"Attendee_apostrophe_s_Name\"},\"y\":{\"field\":\"Course\"}},\"id\":\"14570\",\"type\":\"HBar\"},{\"attributes\":{\"axis\":{\"id\":\"14550\"},\"coordinates\":null,\"dimension\":1,\"grid_line_color\":null,\"group\":null,\"ticker\":null},\"id\":\"14552\",\"type\":\"Grid\"},{\"attributes\":{},\"id\":\"14551\",\"type\":\"CategoricalTicker\"},{\"attributes\":{},\"id\":\"14580\",\"type\":\"AllLabels\"},{\"attributes\":{},\"id\":\"14542\",\"type\":\"LinearScale\"},{\"attributes\":{\"data\":{\"Attendee_apostrophe_s_Name\":[13,1],\"Course\":[\"BSCS\",\"BSEMC\"]},\"selected\":{\"id\":\"14567\"},\"selection_policy\":{\"id\":\"14588\"}},\"id\":\"14566\",\"type\":\"ColumnDataSource\"},{\"attributes\":{},\"id\":\"14577\",\"type\":\"AllLabels\"},{\"attributes\":{\"fill_alpha\":{\"value\":1.0},\"fill_color\":{\"value\":\"maroon\"},\"hatch_alpha\":{\"value\":1.0},\"hatch_color\":{\"value\":\"maroon\"},\"hatch_scale\":{\"value\":12.0},\"hatch_weight\":{\"value\":1.0},\"height\":{\"value\":0.8},\"left\":{\"value\":0},\"line_alpha\":{\"value\":1.0},\"line_cap\":{\"value\":\"butt\"},\"line_color\":{\"value\":\"black\"},\"line_dash\":{\"value\":[]},\"line_dash_offset\":{\"value\":0},\"line_join\":{\"value\":\"bevel\"},\"line_width\":{\"value\":1},\"right\":{\"field\":\"Attendee_apostrophe_s_Name\"},\"y\":{\"field\":\"Course\"}},\"id\":\"14574\",\"type\":\"HBar\"},{\"attributes\":{\"fill_color\":{\"value\":\"maroon\"},\"hatch_color\":{\"value\":\"maroon\"},\"height\":{\"value\":0.8},\"right\":{\"field\":\"Attendee_apostrophe_s_Name\"},\"y\":{\"field\":\"Course\"}},\"id\":\"14569\",\"type\":\"HBar\"},{\"attributes\":{\"children\":[{\"id\":\"14533\"},{\"id\":\"14537\"},{\"id\":\"14591\"}],\"margin\":[0,0,0,0],\"name\":\"Row16834\",\"tags\":[\"embedded\"]},\"id\":\"14532\",\"type\":\"Row\"},{\"attributes\":{},\"id\":\"14553\",\"type\":\"SaveTool\"},{\"attributes\":{\"end\":14.2,\"reset_end\":14.2,\"reset_start\":0.0,\"tags\":[[[\"Attendee's Name\",\"Attendee's Name\",null]]]},\"id\":\"14534\",\"type\":\"Range1d\"},{\"attributes\":{\"coordinates\":null,\"data_source\":{\"id\":\"14566\"},\"glyph\":{\"id\":\"14569\"},\"group\":null,\"hover_glyph\":null,\"muted_glyph\":{\"id\":\"14571\"},\"nonselection_glyph\":{\"id\":\"14570\"},\"selection_glyph\":{\"id\":\"14574\"},\"view\":{\"id\":\"14573\"}},\"id\":\"14572\",\"type\":\"GlyphRenderer\"},{\"attributes\":{\"overlay\":{\"id\":\"14558\"}},\"id\":\"14556\",\"type\":\"BoxZoomTool\"},{\"attributes\":{\"source\":{\"id\":\"14566\"}},\"id\":\"14573\",\"type\":\"CDSView\"},{\"attributes\":{},\"id\":\"14557\",\"type\":\"ResetTool\"},{\"attributes\":{\"bottom_units\":\"screen\",\"coordinates\":null,\"fill_alpha\":0.5,\"fill_color\":\"lightgrey\",\"group\":null,\"left_units\":\"screen\",\"level\":\"overlay\",\"line_alpha\":1.0,\"line_color\":\"black\",\"line_dash\":[4,4],\"line_width\":2,\"right_units\":\"screen\",\"syncable\":false,\"top_units\":\"screen\"},\"id\":\"14558\",\"type\":\"BoxAnnotation\"},{\"attributes\":{\"fill_alpha\":{\"value\":0.2},\"fill_color\":{\"value\":\"maroon\"},\"hatch_alpha\":{\"value\":0.2},\"hatch_color\":{\"value\":\"maroon\"},\"height\":{\"value\":0.8},\"line_alpha\":{\"value\":0.2},\"right\":{\"field\":\"Attendee_apostrophe_s_Name\"},\"y\":{\"field\":\"Course\"}},\"id\":\"14571\",\"type\":\"HBar\"},{\"attributes\":{\"margin\":[5,5,5,5],\"name\":\"HSpacer16838\",\"sizing_mode\":\"stretch_width\"},\"id\":\"14533\",\"type\":\"Spacer\"},{\"attributes\":{},\"id\":\"14576\",\"type\":\"BasicTickFormatter\"},{\"attributes\":{\"tools\":[{\"id\":\"14536\"},{\"id\":\"14553\"},{\"id\":\"14554\"},{\"id\":\"14555\"},{\"id\":\"14556\"},{\"id\":\"14557\"}]},\"id\":\"14559\",\"type\":\"Toolbar\"},{\"attributes\":{\"factors\":[\"BSCS\",\"BSEMC\"],\"tags\":[[[\"Course\",\"Course\",null]]]},\"id\":\"14535\",\"type\":\"FactorRange\"},{\"attributes\":{},\"id\":\"14579\",\"type\":\"CategoricalTickFormatter\"},{\"attributes\":{\"margin\":[5,5,5,5],\"name\":\"HSpacer16839\",\"sizing_mode\":\"stretch_width\"},\"id\":\"14591\",\"type\":\"Spacer\"},{\"attributes\":{},\"id\":\"14544\",\"type\":\"CategoricalScale\"},{\"attributes\":{\"callback\":null,\"renderers\":[{\"id\":\"14572\"}],\"tags\":[\"hv_created\"],\"tooltips\":[[\"Course\",\"@{Course}\"],[\"Attendee's Name\",\"@{Attendee_apostrophe_s_Name}\"]]},\"id\":\"14536\",\"type\":\"HoverTool\"},{\"attributes\":{\"coordinates\":null,\"group\":null,\"text\":\"Total Number of Students bases on Course Types\",\"text_color\":\"black\",\"text_font_size\":\"12pt\"},\"id\":\"14538\",\"type\":\"Title\"},{\"attributes\":{\"below\":[{\"id\":\"14546\"}],\"center\":[{\"id\":\"14549\"},{\"id\":\"14552\"}],\"height\":300,\"left\":[{\"id\":\"14550\"}],\"margin\":[5,5,5,5],\"min_border_bottom\":10,\"min_border_left\":10,\"min_border_right\":10,\"min_border_top\":10,\"renderers\":[{\"id\":\"14572\"}],\"sizing_mode\":\"fixed\",\"title\":{\"id\":\"14538\"},\"toolbar\":{\"id\":\"14559\"},\"width\":700,\"x_range\":{\"id\":\"14534\"},\"x_scale\":{\"id\":\"14542\"},\"y_range\":{\"id\":\"14535\"},\"y_scale\":{\"id\":\"14544\"}},\"id\":\"14537\",\"subtype\":\"Figure\",\"type\":\"Plot\"},{\"attributes\":{\"axis_label\":\"Number of Students\",\"coordinates\":null,\"formatter\":{\"id\":\"14576\"},\"group\":null,\"major_label_policy\":{\"id\":\"14577\"},\"ticker\":{\"id\":\"14547\"}},\"id\":\"14546\",\"type\":\"LinearAxis\"},{\"attributes\":{},\"id\":\"14554\",\"type\":\"PanTool\"}],\"root_ids\":[\"14532\"]},\"title\":\"Bokeh Application\",\"version\":\"2.4.3\"}};\n",
       "    var render_items = [{\"docid\":\"e2111a46-ce16-40c7-ac64-f68ead633b39\",\"root_ids\":[\"14532\"],\"roots\":{\"14532\":\"3586dc83-2aa8-494e-8a88-69613fb1c062\"}}];\n",
       "    root.Bokeh.embed.embed_items_notebook(docs_json, render_items);\n",
       "  }\n",
       "  if (root.Bokeh !== undefined && root.Bokeh.Panel !== undefined) {\n",
       "    embed_document(root);\n",
       "  } else {\n",
       "    var attempts = 0;\n",
       "    var timer = setInterval(function(root) {\n",
       "      if (root.Bokeh !== undefined && root.Bokeh.Panel !== undefined) {\n",
       "        clearInterval(timer);\n",
       "        embed_document(root);\n",
       "      } else if (document.readyState == \"complete\") {\n",
       "        attempts++;\n",
       "        if (attempts > 200) {\n",
       "          clearInterval(timer);\n",
       "          console.log(\"Bokeh: ERROR: Unable to run BokehJS code because BokehJS library is missing\");\n",
       "        }\n",
       "      }\n",
       "    }, 25, root)\n",
       "  }\n",
       "})(window);</script>"
      ],
      "text/plain": [
       ":Bars   [Course]   (Attendee's Name)"
      ]
     },
     "execution_count": 488,
     "metadata": {
      "application/vnd.holoviews_exec.v0+json": {
       "id": "14532"
      }
     },
     "output_type": "execute_result"
    }
   ],
   "source": [
    "# 3 Display the Total Number of Students bases on Course Types using Bar Chart.\n",
    "\n",
    "main = pd.read_csv(\"D:/Jupyter CSV File/Student_Names.csv\")\n",
    "main = main.groupby(\"Course\")[[\"Attendee's Name\"]].count()\n",
    "main.hvplot(kind='barh',color=\"maroon\",ylabel='Number of Students',title=\"Total Number of Students bases on Course Types\")\n"
   ]
  },
  {
   "cell_type": "markdown",
   "id": "00d0b977",
   "metadata": {},
   "source": [
    "# 5.) Display the Number of Students bases on the Year Level using Horizontal Bar Chart."
   ]
  },
  {
   "cell_type": "code",
   "execution_count": 487,
   "id": "a2788585",
   "metadata": {
    "scrolled": false
   },
   "outputs": [
    {
     "data": {},
     "metadata": {},
     "output_type": "display_data"
    },
    {
     "data": {
      "application/vnd.holoviews_exec.v0+json": "",
      "text/html": [
       "<div id='14421'>\n",
       "  <div class=\"bk-root\" id=\"d9d5ad80-792c-463e-921d-1e6108b4b8c8\" data-root-id=\"14421\"></div>\n",
       "</div>\n",
       "<script type=\"application/javascript\">(function(root) {\n",
       "  function embed_document(root) {\n",
       "    var docs_json = {\"e1999cd6-4f1a-45bd-8f1c-542fff8d6b4c\":{\"defs\":[{\"extends\":null,\"module\":null,\"name\":\"ReactiveHTML1\",\"overrides\":[],\"properties\":[]},{\"extends\":null,\"module\":null,\"name\":\"FlexBox1\",\"overrides\":[],\"properties\":[{\"default\":\"flex-start\",\"kind\":null,\"name\":\"align_content\"},{\"default\":\"flex-start\",\"kind\":null,\"name\":\"align_items\"},{\"default\":\"row\",\"kind\":null,\"name\":\"flex_direction\"},{\"default\":\"wrap\",\"kind\":null,\"name\":\"flex_wrap\"},{\"default\":\"flex-start\",\"kind\":null,\"name\":\"justify_content\"}]},{\"extends\":null,\"module\":null,\"name\":\"GridStack1\",\"overrides\":[],\"properties\":[{\"default\":\"warn\",\"kind\":null,\"name\":\"mode\"},{\"default\":null,\"kind\":null,\"name\":\"ncols\"},{\"default\":null,\"kind\":null,\"name\":\"nrows\"},{\"default\":true,\"kind\":null,\"name\":\"allow_resize\"},{\"default\":true,\"kind\":null,\"name\":\"allow_drag\"},{\"default\":[],\"kind\":null,\"name\":\"state\"}]},{\"extends\":null,\"module\":null,\"name\":\"click1\",\"overrides\":[],\"properties\":[{\"default\":\"\",\"kind\":null,\"name\":\"terminal_output\"},{\"default\":\"\",\"kind\":null,\"name\":\"debug_name\"},{\"default\":0,\"kind\":null,\"name\":\"clears\"}]},{\"extends\":null,\"module\":null,\"name\":\"NotificationAreaBase1\",\"overrides\":[],\"properties\":[{\"default\":\"bottom-right\",\"kind\":null,\"name\":\"position\"},{\"default\":0,\"kind\":null,\"name\":\"_clear\"}]},{\"extends\":null,\"module\":null,\"name\":\"NotificationArea1\",\"overrides\":[],\"properties\":[{\"default\":[],\"kind\":null,\"name\":\"notifications\"},{\"default\":\"bottom-right\",\"kind\":null,\"name\":\"position\"},{\"default\":0,\"kind\":null,\"name\":\"_clear\"},{\"default\":[{\"background\":\"#ffc107\",\"icon\":{\"className\":\"fas fa-exclamation-triangle\",\"color\":\"white\",\"tagName\":\"i\"},\"type\":\"warning\"},{\"background\":\"#007bff\",\"icon\":{\"className\":\"fas fa-info-circle\",\"color\":\"white\",\"tagName\":\"i\"},\"type\":\"info\"}],\"kind\":null,\"name\":\"types\"}]},{\"extends\":null,\"module\":null,\"name\":\"Notification\",\"overrides\":[],\"properties\":[{\"default\":null,\"kind\":null,\"name\":\"background\"},{\"default\":3000,\"kind\":null,\"name\":\"duration\"},{\"default\":null,\"kind\":null,\"name\":\"icon\"},{\"default\":\"\",\"kind\":null,\"name\":\"message\"},{\"default\":null,\"kind\":null,\"name\":\"notification_type\"},{\"default\":false,\"kind\":null,\"name\":\"_destroyed\"}]},{\"extends\":null,\"module\":null,\"name\":\"TemplateActions1\",\"overrides\":[],\"properties\":[{\"default\":0,\"kind\":null,\"name\":\"open_modal\"},{\"default\":0,\"kind\":null,\"name\":\"close_modal\"}]},{\"extends\":null,\"module\":null,\"name\":\"MaterialTemplateActions1\",\"overrides\":[],\"properties\":[{\"default\":0,\"kind\":null,\"name\":\"open_modal\"},{\"default\":0,\"kind\":null,\"name\":\"close_modal\"}]}],\"roots\":{\"references\":[{\"attributes\":{\"data\":{\"Attendee_apostrophe_s_Name\":[14],\"Year_Level\":[\"1st Year\"]},\"selected\":{\"id\":\"14456\"},\"selection_policy\":{\"id\":\"14477\"}},\"id\":\"14455\",\"type\":\"ColumnDataSource\"},{\"attributes\":{\"source\":{\"id\":\"14455\"}},\"id\":\"14462\",\"type\":\"CDSView\"},{\"attributes\":{\"overlay\":{\"id\":\"14447\"}},\"id\":\"14445\",\"type\":\"BoxZoomTool\"},{\"attributes\":{},\"id\":\"14446\",\"type\":\"ResetTool\"},{\"attributes\":{\"children\":[{\"id\":\"14422\"},{\"id\":\"14426\"},{\"id\":\"14480\"}],\"margin\":[0,0,0,0],\"name\":\"Row16710\",\"tags\":[\"embedded\"]},\"id\":\"14421\",\"type\":\"Row\"},{\"attributes\":{\"bottom_units\":\"screen\",\"coordinates\":null,\"fill_alpha\":0.5,\"fill_color\":\"lightgrey\",\"group\":null,\"left_units\":\"screen\",\"level\":\"overlay\",\"line_alpha\":1.0,\"line_color\":\"black\",\"line_dash\":[4,4],\"line_width\":2,\"right_units\":\"screen\",\"syncable\":false,\"top_units\":\"screen\"},\"id\":\"14447\",\"type\":\"BoxAnnotation\"},{\"attributes\":{\"fill_alpha\":{\"value\":1.0},\"fill_color\":{\"value\":\"gray\"},\"hatch_alpha\":{\"value\":1.0},\"hatch_color\":{\"value\":\"gray\"},\"hatch_scale\":{\"value\":12.0},\"hatch_weight\":{\"value\":1.0},\"height\":{\"value\":0.8},\"left\":{\"value\":0},\"line_alpha\":{\"value\":1.0},\"line_cap\":{\"value\":\"butt\"},\"line_color\":{\"value\":\"black\"},\"line_dash\":{\"value\":[]},\"line_dash_offset\":{\"value\":0},\"line_join\":{\"value\":\"bevel\"},\"line_width\":{\"value\":1},\"right\":{\"field\":\"Attendee_apostrophe_s_Name\"},\"y\":{\"field\":\"Year_Level\"}},\"id\":\"14463\",\"type\":\"HBar\"},{\"attributes\":{},\"id\":\"14431\",\"type\":\"LinearScale\"},{\"attributes\":{\"factors\":[\"1st Year\"],\"tags\":[[[\"Year Level\",\"Year Level\",null]]]},\"id\":\"14424\",\"type\":\"FactorRange\"},{\"attributes\":{},\"id\":\"14469\",\"type\":\"AllLabels\"},{\"attributes\":{\"tools\":[{\"id\":\"14425\"},{\"id\":\"14442\"},{\"id\":\"14443\"},{\"id\":\"14444\"},{\"id\":\"14445\"},{\"id\":\"14446\"}]},\"id\":\"14448\",\"type\":\"Toolbar\"},{\"attributes\":{\"end\":14.0,\"reset_end\":14.0,\"reset_start\":0.0,\"tags\":[[[\"Attendee's Name\",\"Attendee's Name\",null]]]},\"id\":\"14423\",\"type\":\"Range1d\"},{\"attributes\":{},\"id\":\"14433\",\"type\":\"CategoricalScale\"},{\"attributes\":{\"callback\":null,\"renderers\":[{\"id\":\"14461\"}],\"tags\":[\"hv_created\"],\"tooltips\":[[\"Year Level\",\"@{Year_Level}\"],[\"Attendee's Name\",\"@{Attendee_apostrophe_s_Name}\"]]},\"id\":\"14425\",\"type\":\"HoverTool\"},{\"attributes\":{\"coordinates\":null,\"data_source\":{\"id\":\"14455\"},\"glyph\":{\"id\":\"14458\"},\"group\":null,\"hover_glyph\":null,\"muted_glyph\":{\"id\":\"14460\"},\"nonselection_glyph\":{\"id\":\"14459\"},\"selection_glyph\":{\"id\":\"14463\"},\"view\":{\"id\":\"14462\"}},\"id\":\"14461\",\"type\":\"GlyphRenderer\"},{\"attributes\":{},\"id\":\"14456\",\"type\":\"Selection\"},{\"attributes\":{\"coordinates\":null,\"group\":null,\"text\":\"Total Number of Students bases on the Year Level\",\"text_color\":\"black\",\"text_font_size\":\"12pt\"},\"id\":\"14427\",\"type\":\"Title\"},{\"attributes\":{},\"id\":\"14468\",\"type\":\"CategoricalTickFormatter\"},{\"attributes\":{\"below\":[{\"id\":\"14435\"}],\"center\":[{\"id\":\"14438\"},{\"id\":\"14441\"}],\"height\":300,\"left\":[{\"id\":\"14439\"}],\"margin\":[5,5,5,5],\"min_border_bottom\":10,\"min_border_left\":10,\"min_border_right\":10,\"min_border_top\":10,\"renderers\":[{\"id\":\"14461\"}],\"sizing_mode\":\"fixed\",\"title\":{\"id\":\"14427\"},\"toolbar\":{\"id\":\"14448\"},\"width\":700,\"x_range\":{\"id\":\"14423\"},\"x_scale\":{\"id\":\"14431\"},\"y_range\":{\"id\":\"14424\"},\"y_scale\":{\"id\":\"14433\"}},\"id\":\"14426\",\"subtype\":\"Figure\",\"type\":\"Plot\"},{\"attributes\":{\"axis_label\":\"Number of Students\",\"coordinates\":null,\"formatter\":{\"id\":\"14465\"},\"group\":null,\"major_label_policy\":{\"id\":\"14466\"},\"ticker\":{\"id\":\"14436\"}},\"id\":\"14435\",\"type\":\"LinearAxis\"},{\"attributes\":{\"fill_alpha\":{\"value\":0.2},\"hatch_alpha\":{\"value\":0.2},\"hatch_color\":{\"value\":\"gray\"},\"height\":{\"value\":0.8},\"line_alpha\":{\"value\":0.2},\"right\":{\"field\":\"Attendee_apostrophe_s_Name\"},\"y\":{\"field\":\"Year_Level\"}},\"id\":\"14460\",\"type\":\"HBar\"},{\"attributes\":{},\"id\":\"14443\",\"type\":\"PanTool\"},{\"attributes\":{},\"id\":\"14477\",\"type\":\"UnionRenderers\"},{\"attributes\":{\"fill_alpha\":{\"value\":0.1},\"hatch_alpha\":{\"value\":0.1},\"hatch_color\":{\"value\":\"gray\"},\"height\":{\"value\":0.8},\"line_alpha\":{\"value\":0.1},\"right\":{\"field\":\"Attendee_apostrophe_s_Name\"},\"y\":{\"field\":\"Year_Level\"}},\"id\":\"14459\",\"type\":\"HBar\"},{\"attributes\":{\"axis\":{\"id\":\"14435\"},\"coordinates\":null,\"grid_line_color\":null,\"group\":null,\"ticker\":null},\"id\":\"14438\",\"type\":\"Grid\"},{\"attributes\":{},\"id\":\"14436\",\"type\":\"BasicTicker\"},{\"attributes\":{},\"id\":\"14444\",\"type\":\"WheelZoomTool\"},{\"attributes\":{\"axis_label\":\"Year Level\",\"coordinates\":null,\"formatter\":{\"id\":\"14468\"},\"group\":null,\"major_label_policy\":{\"id\":\"14469\"},\"ticker\":{\"id\":\"14440\"}},\"id\":\"14439\",\"type\":\"CategoricalAxis\"},{\"attributes\":{},\"id\":\"14465\",\"type\":\"BasicTickFormatter\"},{\"attributes\":{\"axis\":{\"id\":\"14439\"},\"coordinates\":null,\"dimension\":1,\"grid_line_color\":null,\"group\":null,\"ticker\":null},\"id\":\"14441\",\"type\":\"Grid\"},{\"attributes\":{},\"id\":\"14440\",\"type\":\"CategoricalTicker\"},{\"attributes\":{\"margin\":[5,5,5,5],\"name\":\"HSpacer16714\",\"sizing_mode\":\"stretch_width\"},\"id\":\"14422\",\"type\":\"Spacer\"},{\"attributes\":{\"hatch_color\":{\"value\":\"gray\"},\"height\":{\"value\":0.8},\"right\":{\"field\":\"Attendee_apostrophe_s_Name\"},\"y\":{\"field\":\"Year_Level\"}},\"id\":\"14458\",\"type\":\"HBar\"},{\"attributes\":{},\"id\":\"14466\",\"type\":\"AllLabels\"},{\"attributes\":{\"margin\":[5,5,5,5],\"name\":\"HSpacer16715\",\"sizing_mode\":\"stretch_width\"},\"id\":\"14480\",\"type\":\"Spacer\"},{\"attributes\":{},\"id\":\"14442\",\"type\":\"SaveTool\"}],\"root_ids\":[\"14421\"]},\"title\":\"Bokeh Application\",\"version\":\"2.4.3\"}};\n",
       "    var render_items = [{\"docid\":\"e1999cd6-4f1a-45bd-8f1c-542fff8d6b4c\",\"root_ids\":[\"14421\"],\"roots\":{\"14421\":\"d9d5ad80-792c-463e-921d-1e6108b4b8c8\"}}];\n",
       "    root.Bokeh.embed.embed_items_notebook(docs_json, render_items);\n",
       "  }\n",
       "  if (root.Bokeh !== undefined && root.Bokeh.Panel !== undefined) {\n",
       "    embed_document(root);\n",
       "  } else {\n",
       "    var attempts = 0;\n",
       "    var timer = setInterval(function(root) {\n",
       "      if (root.Bokeh !== undefined && root.Bokeh.Panel !== undefined) {\n",
       "        clearInterval(timer);\n",
       "        embed_document(root);\n",
       "      } else if (document.readyState == \"complete\") {\n",
       "        attempts++;\n",
       "        if (attempts > 200) {\n",
       "          clearInterval(timer);\n",
       "          console.log(\"Bokeh: ERROR: Unable to run BokehJS code because BokehJS library is missing\");\n",
       "        }\n",
       "      }\n",
       "    }, 25, root)\n",
       "  }\n",
       "})(window);</script>"
      ],
      "text/plain": [
       ":Bars   [Year Level]   (Attendee's Name)"
      ]
     },
     "execution_count": 487,
     "metadata": {
      "application/vnd.holoviews_exec.v0+json": {
       "id": "14421"
      }
     },
     "output_type": "execute_result"
    }
   ],
   "source": [
    "# 5 Display the Number of Students bases on the Year Level using Horizontal Bar Chart.\n",
    "\n",
    "main = pd.read_csv(\"D:/Jupyter CSV File/Student_Names.csv\")\n",
    "main = main.groupby(\"Year Level\")[[\"Attendee's Name\"]].count()\n",
    "main.hvplot(kind='barh',ylabel=\"Number of Students\", color=\"gray\",title=\"Total Number of Students bases on the Year Level\")\n",
    "\n"
   ]
  },
  {
   "cell_type": "markdown",
   "id": "1bad830c",
   "metadata": {},
   "source": [
    "# 6.) Display the top 5 students who seldomly attending within the whole week using Bar Chart."
   ]
  },
  {
   "cell_type": "code",
   "execution_count": 485,
   "id": "8e9e7333",
   "metadata": {
    "scrolled": false
   },
   "outputs": [
    {
     "data": {},
     "metadata": {},
     "output_type": "display_data"
    },
    {
     "data": {
      "application/vnd.holoviews_exec.v0+json": "",
      "text/html": [
       "<div id='14198'>\n",
       "  <div class=\"bk-root\" id=\"e5dfa3d1-5bde-4536-9544-2f9bd55a1c17\" data-root-id=\"14198\"></div>\n",
       "</div>\n",
       "<script type=\"application/javascript\">(function(root) {\n",
       "  function embed_document(root) {\n",
       "    var docs_json = {\"e58570e9-6227-4187-b43c-8e7e3669938f\":{\"defs\":[{\"extends\":null,\"module\":null,\"name\":\"ReactiveHTML1\",\"overrides\":[],\"properties\":[]},{\"extends\":null,\"module\":null,\"name\":\"FlexBox1\",\"overrides\":[],\"properties\":[{\"default\":\"flex-start\",\"kind\":null,\"name\":\"align_content\"},{\"default\":\"flex-start\",\"kind\":null,\"name\":\"align_items\"},{\"default\":\"row\",\"kind\":null,\"name\":\"flex_direction\"},{\"default\":\"wrap\",\"kind\":null,\"name\":\"flex_wrap\"},{\"default\":\"flex-start\",\"kind\":null,\"name\":\"justify_content\"}]},{\"extends\":null,\"module\":null,\"name\":\"GridStack1\",\"overrides\":[],\"properties\":[{\"default\":\"warn\",\"kind\":null,\"name\":\"mode\"},{\"default\":null,\"kind\":null,\"name\":\"ncols\"},{\"default\":null,\"kind\":null,\"name\":\"nrows\"},{\"default\":true,\"kind\":null,\"name\":\"allow_resize\"},{\"default\":true,\"kind\":null,\"name\":\"allow_drag\"},{\"default\":[],\"kind\":null,\"name\":\"state\"}]},{\"extends\":null,\"module\":null,\"name\":\"click1\",\"overrides\":[],\"properties\":[{\"default\":\"\",\"kind\":null,\"name\":\"terminal_output\"},{\"default\":\"\",\"kind\":null,\"name\":\"debug_name\"},{\"default\":0,\"kind\":null,\"name\":\"clears\"}]},{\"extends\":null,\"module\":null,\"name\":\"NotificationAreaBase1\",\"overrides\":[],\"properties\":[{\"default\":\"bottom-right\",\"kind\":null,\"name\":\"position\"},{\"default\":0,\"kind\":null,\"name\":\"_clear\"}]},{\"extends\":null,\"module\":null,\"name\":\"NotificationArea1\",\"overrides\":[],\"properties\":[{\"default\":[],\"kind\":null,\"name\":\"notifications\"},{\"default\":\"bottom-right\",\"kind\":null,\"name\":\"position\"},{\"default\":0,\"kind\":null,\"name\":\"_clear\"},{\"default\":[{\"background\":\"#ffc107\",\"icon\":{\"className\":\"fas fa-exclamation-triangle\",\"color\":\"white\",\"tagName\":\"i\"},\"type\":\"warning\"},{\"background\":\"#007bff\",\"icon\":{\"className\":\"fas fa-info-circle\",\"color\":\"white\",\"tagName\":\"i\"},\"type\":\"info\"}],\"kind\":null,\"name\":\"types\"}]},{\"extends\":null,\"module\":null,\"name\":\"Notification\",\"overrides\":[],\"properties\":[{\"default\":null,\"kind\":null,\"name\":\"background\"},{\"default\":3000,\"kind\":null,\"name\":\"duration\"},{\"default\":null,\"kind\":null,\"name\":\"icon\"},{\"default\":\"\",\"kind\":null,\"name\":\"message\"},{\"default\":null,\"kind\":null,\"name\":\"notification_type\"},{\"default\":false,\"kind\":null,\"name\":\"_destroyed\"}]},{\"extends\":null,\"module\":null,\"name\":\"TemplateActions1\",\"overrides\":[],\"properties\":[{\"default\":0,\"kind\":null,\"name\":\"open_modal\"},{\"default\":0,\"kind\":null,\"name\":\"close_modal\"}]},{\"extends\":null,\"module\":null,\"name\":\"MaterialTemplateActions1\",\"overrides\":[],\"properties\":[{\"default\":0,\"kind\":null,\"name\":\"open_modal\"},{\"default\":0,\"kind\":null,\"name\":\"close_modal\"}]}],\"roots\":{\"references\":[{\"attributes\":{},\"id\":\"14219\",\"type\":\"SaveTool\"},{\"attributes\":{},\"id\":\"14255\",\"type\":\"UnionRenderers\"},{\"attributes\":{\"overlay\":{\"id\":\"14224\"}},\"id\":\"14222\",\"type\":\"BoxZoomTool\"},{\"attributes\":{\"callback\":null,\"renderers\":[{\"id\":\"14239\"}],\"tags\":[\"hv_created\"],\"tooltips\":[[\"Attendee's Name\",\"@{Attendee_apostrophe_s_Name}\"],[\"Variable\",\"@{Variable}\"],[\"value\",\"@{value}\"]]},\"id\":\"14202\",\"type\":\"HoverTool\"},{\"attributes\":{},\"id\":\"14223\",\"type\":\"ResetTool\"},{\"attributes\":{\"factors\":[[\"Almonte, Karl B.\",\"No. of Clock Ins\"],[\"Almonte, Karl B.\",\"No. of Clock Outs\"],[\"Apolonio, Karl C.\",\"No. of Clock Ins\"],[\"Apolonio, Karl C.\",\"No. of Clock Outs\"],[\"Banderada, Raphael V.\",\"No. of Clock Ins\"],[\"Banderada, Raphael V.\",\"No. of Clock Outs\"],[\"Basalo, Francois L.\",\"No. of Clock Ins\"],[\"Basalo, Francois L.\",\"No. of Clock Outs\"],[\"Catalla, Johann S.\",\"No. of Clock Ins\"],[\"Catalla, Johann S.\",\"No. of Clock Outs\"]],\"tags\":[[[\"Attendee's Name\",\"Attendee's Name\",null],[\"Variable\",\"Variable\",null]]]},\"id\":\"14200\",\"type\":\"FactorRange\"},{\"attributes\":{\"bottom_units\":\"screen\",\"coordinates\":null,\"fill_alpha\":0.5,\"fill_color\":\"lightgrey\",\"group\":null,\"left_units\":\"screen\",\"level\":\"overlay\",\"line_alpha\":1.0,\"line_color\":\"black\",\"line_dash\":[4,4],\"line_width\":2,\"right_units\":\"screen\",\"syncable\":false,\"top_units\":\"screen\"},\"id\":\"14224\",\"type\":\"BoxAnnotation\"},{\"attributes\":{\"bottom\":{\"value\":0},\"fill_alpha\":{\"value\":1.0},\"fill_color\":{\"field\":\"Variable\",\"transform\":{\"id\":\"14232\"}},\"hatch_alpha\":{\"value\":1.0},\"hatch_color\":{\"field\":\"Variable\",\"transform\":{\"id\":\"14232\"}},\"hatch_scale\":{\"value\":12.0},\"hatch_weight\":{\"value\":1.0},\"line_alpha\":{\"value\":1.0},\"line_cap\":{\"value\":\"butt\"},\"line_color\":{\"value\":\"black\"},\"line_dash\":{\"value\":[]},\"line_dash_offset\":{\"value\":0},\"line_join\":{\"value\":\"bevel\"},\"line_width\":{\"value\":1},\"top\":{\"field\":\"value\"},\"width\":{\"value\":0.8},\"x\":{\"field\":\"xoffsets\"}},\"id\":\"14241\",\"type\":\"VBar\"},{\"attributes\":{\"source\":{\"id\":\"14233\"}},\"id\":\"14240\",\"type\":\"CDSView\"},{\"attributes\":{},\"id\":\"14208\",\"type\":\"CategoricalScale\"},{\"attributes\":{\"tools\":[{\"id\":\"14202\"},{\"id\":\"14219\"},{\"id\":\"14220\"},{\"id\":\"14221\"},{\"id\":\"14222\"},{\"id\":\"14223\"}]},\"id\":\"14225\",\"type\":\"Toolbar\"},{\"attributes\":{\"data\":{\"Attendee_apostrophe_s_Name\":[\"Almonte, Karl B.\",\"Apolonio, Karl C.\",\"Banderada, Raphael V.\",\"Basalo, Francois L.\",\"Catalla, Johann S.\",\"Almonte, Karl B.\",\"Apolonio, Karl C.\",\"Banderada, Raphael V.\",\"Basalo, Francois L.\",\"Catalla, Johann S.\"],\"Variable\":[\"No. of Clock Ins\",\"No. of Clock Ins\",\"No. of Clock Ins\",\"No. of Clock Ins\",\"No. of Clock Ins\",\"No. of Clock Outs\",\"No. of Clock Outs\",\"No. of Clock Outs\",\"No. of Clock Outs\",\"No. of Clock Outs\"],\"value\":[5,5,5,5,6,5,5,5,5,6],\"xoffsets\":[[\"Almonte, Karl B.\",\"No. of Clock Ins\"],[\"Apolonio, Karl C.\",\"No. of Clock Ins\"],[\"Banderada, Raphael V.\",\"No. of Clock Ins\"],[\"Basalo, Francois L.\",\"No. of Clock Ins\"],[\"Catalla, Johann S.\",\"No. of Clock Ins\"],[\"Almonte, Karl B.\",\"No. of Clock Outs\"],[\"Apolonio, Karl C.\",\"No. of Clock Outs\"],[\"Banderada, Raphael V.\",\"No. of Clock Outs\"],[\"Basalo, Francois L.\",\"No. of Clock Outs\"],[\"Catalla, Johann S.\",\"No. of Clock Outs\"]]},\"selected\":{\"id\":\"14234\"},\"selection_policy\":{\"id\":\"14255\"}},\"id\":\"14233\",\"type\":\"ColumnDataSource\"},{\"attributes\":{\"children\":[{\"id\":\"14199\"},{\"id\":\"14203\"},{\"id\":\"14258\"}],\"margin\":[0,0,0,0],\"name\":\"Row16404\",\"tags\":[\"embedded\"]},\"id\":\"14198\",\"type\":\"Row\"},{\"attributes\":{\"coordinates\":null,\"group\":null,\"text\":\"Top 5 Students who seldomly attending within the whole week\",\"text_color\":\"black\",\"text_font_size\":\"12pt\"},\"id\":\"14204\",\"type\":\"Title\"},{\"attributes\":{\"factors\":[\"No. of Clock Ins\",\"No. of Clock Outs\"],\"palette\":[\"#30a2da\",\"#fc4f30\"]},\"id\":\"14232\",\"type\":\"CategoricalColorMapper\"},{\"attributes\":{\"axis_label\":\"Attendee's Names\",\"coordinates\":null,\"formatter\":{\"id\":\"14243\"},\"group\":null,\"major_label_orientation\":1.5707963267948966,\"major_label_policy\":{\"id\":\"14244\"},\"ticker\":{\"id\":\"14213\"}},\"id\":\"14212\",\"type\":\"CategoricalAxis\"},{\"attributes\":{},\"id\":\"14247\",\"type\":\"AllLabels\"},{\"attributes\":{},\"id\":\"14243\",\"type\":\"CategoricalTickFormatter\"},{\"attributes\":{},\"id\":\"14210\",\"type\":\"LinearScale\"},{\"attributes\":{},\"id\":\"14234\",\"type\":\"Selection\"},{\"attributes\":{\"end\":6.1,\"reset_end\":6.1,\"reset_start\":0.0,\"tags\":[[[\"value\",\"value\",null]]]},\"id\":\"14201\",\"type\":\"Range1d\"},{\"attributes\":{\"fill_alpha\":{\"value\":0.2},\"fill_color\":{\"field\":\"Variable\",\"transform\":{\"id\":\"14232\"}},\"hatch_alpha\":{\"value\":0.2},\"hatch_color\":{\"field\":\"Variable\",\"transform\":{\"id\":\"14232\"}},\"line_alpha\":{\"value\":0.2},\"top\":{\"field\":\"value\"},\"width\":{\"value\":0.8},\"x\":{\"field\":\"xoffsets\"}},\"id\":\"14238\",\"type\":\"VBar\"},{\"attributes\":{\"below\":[{\"id\":\"14212\"}],\"center\":[{\"id\":\"14214\"},{\"id\":\"14218\"}],\"height\":300,\"left\":[{\"id\":\"14215\"}],\"margin\":[5,5,5,5],\"min_border_bottom\":10,\"min_border_left\":10,\"min_border_right\":10,\"min_border_top\":10,\"renderers\":[{\"id\":\"14239\"}],\"sizing_mode\":\"fixed\",\"title\":{\"id\":\"14204\"},\"toolbar\":{\"id\":\"14225\"},\"width\":700,\"x_range\":{\"id\":\"14200\"},\"x_scale\":{\"id\":\"14208\"},\"y_range\":{\"id\":\"14201\"},\"y_scale\":{\"id\":\"14210\"}},\"id\":\"14203\",\"subtype\":\"Figure\",\"type\":\"Plot\"},{\"attributes\":{\"coordinates\":null,\"data_source\":{\"id\":\"14233\"},\"glyph\":{\"id\":\"14236\"},\"group\":null,\"hover_glyph\":null,\"muted_glyph\":{\"id\":\"14238\"},\"nonselection_glyph\":{\"id\":\"14237\"},\"selection_glyph\":{\"id\":\"14241\"},\"view\":{\"id\":\"14240\"}},\"id\":\"14239\",\"type\":\"GlyphRenderer\"},{\"attributes\":{},\"id\":\"14244\",\"type\":\"AllLabels\"},{\"attributes\":{\"margin\":[5,5,5,5],\"name\":\"HSpacer16409\",\"sizing_mode\":\"stretch_width\"},\"id\":\"14258\",\"type\":\"Spacer\"},{\"attributes\":{\"fill_color\":{\"field\":\"Variable\",\"transform\":{\"id\":\"14232\"}},\"hatch_color\":{\"field\":\"Variable\",\"transform\":{\"id\":\"14232\"}},\"top\":{\"field\":\"value\"},\"width\":{\"value\":0.8},\"x\":{\"field\":\"xoffsets\"}},\"id\":\"14236\",\"type\":\"VBar\"},{\"attributes\":{},\"id\":\"14246\",\"type\":\"BasicTickFormatter\"},{\"attributes\":{\"axis\":{\"id\":\"14212\"},\"coordinates\":null,\"grid_line_color\":null,\"group\":null,\"ticker\":null},\"id\":\"14214\",\"type\":\"Grid\"},{\"attributes\":{},\"id\":\"14220\",\"type\":\"PanTool\"},{\"attributes\":{},\"id\":\"14213\",\"type\":\"CategoricalTicker\"},{\"attributes\":{\"fill_alpha\":{\"value\":0.1},\"fill_color\":{\"field\":\"Variable\",\"transform\":{\"id\":\"14232\"}},\"hatch_alpha\":{\"value\":0.1},\"hatch_color\":{\"field\":\"Variable\",\"transform\":{\"id\":\"14232\"}},\"line_alpha\":{\"value\":0.1},\"top\":{\"field\":\"value\"},\"width\":{\"value\":0.8},\"x\":{\"field\":\"xoffsets\"}},\"id\":\"14237\",\"type\":\"VBar\"},{\"attributes\":{\"axis_label\":\"Clock In & Out\",\"coordinates\":null,\"formatter\":{\"id\":\"14246\"},\"group\":null,\"major_label_policy\":{\"id\":\"14247\"},\"ticker\":{\"id\":\"14216\"}},\"id\":\"14215\",\"type\":\"LinearAxis\"},{\"attributes\":{\"margin\":[5,5,5,5],\"name\":\"HSpacer16408\",\"sizing_mode\":\"stretch_width\"},\"id\":\"14199\",\"type\":\"Spacer\"},{\"attributes\":{\"axis\":{\"id\":\"14215\"},\"coordinates\":null,\"dimension\":1,\"grid_line_color\":null,\"group\":null,\"ticker\":null},\"id\":\"14218\",\"type\":\"Grid\"},{\"attributes\":{},\"id\":\"14216\",\"type\":\"BasicTicker\"},{\"attributes\":{},\"id\":\"14221\",\"type\":\"WheelZoomTool\"}],\"root_ids\":[\"14198\"]},\"title\":\"Bokeh Application\",\"version\":\"2.4.3\"}};\n",
       "    var render_items = [{\"docid\":\"e58570e9-6227-4187-b43c-8e7e3669938f\",\"root_ids\":[\"14198\"],\"roots\":{\"14198\":\"e5dfa3d1-5bde-4536-9544-2f9bd55a1c17\"}}];\n",
       "    root.Bokeh.embed.embed_items_notebook(docs_json, render_items);\n",
       "  }\n",
       "  if (root.Bokeh !== undefined && root.Bokeh.Panel !== undefined) {\n",
       "    embed_document(root);\n",
       "  } else {\n",
       "    var attempts = 0;\n",
       "    var timer = setInterval(function(root) {\n",
       "      if (root.Bokeh !== undefined && root.Bokeh.Panel !== undefined) {\n",
       "        clearInterval(timer);\n",
       "        embed_document(root);\n",
       "      } else if (document.readyState == \"complete\") {\n",
       "        attempts++;\n",
       "        if (attempts > 200) {\n",
       "          clearInterval(timer);\n",
       "          console.log(\"Bokeh: ERROR: Unable to run BokehJS code because BokehJS library is missing\");\n",
       "        }\n",
       "      }\n",
       "    }, 25, root)\n",
       "  }\n",
       "})(window);</script>"
      ],
      "text/plain": [
       ":Bars   [Attendee's Name,Variable]   (value)"
      ]
     },
     "execution_count": 485,
     "metadata": {
      "application/vnd.holoviews_exec.v0+json": {
       "id": "14198"
      }
     },
     "output_type": "execute_result"
    }
   ],
   "source": [
    "# 6.) Display the Top 5 students who seldomly attending within the whole week using Bar Chart.\n",
    "\n",
    "main = pd.read_csv(\"D:/Jupyter CSV File/Student_Names.csv\")\n",
    "\n",
    "main = main.groupby(\"Attendee's Name\")[[\"No. of Clock Ins\",\"No. of Clock Outs\"]].sum().sort_values(by=[\"No. of Clock Ins\",\"No. of Clock Outs\"])\n",
    "main = main.head()# 5 Display the Number of Students bases on the Year Level.\n",
    "main.hvplot(kind=\"bar\",xlabel=\"Attendee's Names\", ylabel=\"Clock In & Out\", rot=90,title=\" Top 5 Students who seldomly attending within the whole week\")"
   ]
  },
  {
   "cell_type": "markdown",
   "id": "3588818f",
   "metadata": {},
   "source": [
    "# 7.) Display the TOP 5 Students who actively completed the attendance within the whole week using Bar Chart."
   ]
  },
  {
   "cell_type": "code",
   "execution_count": 484,
   "id": "89b7ecc7",
   "metadata": {},
   "outputs": [
    {
     "data": {},
     "metadata": {},
     "output_type": "display_data"
    },
    {
     "data": {
      "application/vnd.holoviews_exec.v0+json": "",
      "text/html": [
       "<div id='14086'>\n",
       "  <div class=\"bk-root\" id=\"50b4c797-3aca-48f6-8e7b-51376d93685b\" data-root-id=\"14086\"></div>\n",
       "</div>\n",
       "<script type=\"application/javascript\">(function(root) {\n",
       "  function embed_document(root) {\n",
       "    var docs_json = {\"7ac6a4be-2335-46d3-8da4-af2734d05201\":{\"defs\":[{\"extends\":null,\"module\":null,\"name\":\"ReactiveHTML1\",\"overrides\":[],\"properties\":[]},{\"extends\":null,\"module\":null,\"name\":\"FlexBox1\",\"overrides\":[],\"properties\":[{\"default\":\"flex-start\",\"kind\":null,\"name\":\"align_content\"},{\"default\":\"flex-start\",\"kind\":null,\"name\":\"align_items\"},{\"default\":\"row\",\"kind\":null,\"name\":\"flex_direction\"},{\"default\":\"wrap\",\"kind\":null,\"name\":\"flex_wrap\"},{\"default\":\"flex-start\",\"kind\":null,\"name\":\"justify_content\"}]},{\"extends\":null,\"module\":null,\"name\":\"GridStack1\",\"overrides\":[],\"properties\":[{\"default\":\"warn\",\"kind\":null,\"name\":\"mode\"},{\"default\":null,\"kind\":null,\"name\":\"ncols\"},{\"default\":null,\"kind\":null,\"name\":\"nrows\"},{\"default\":true,\"kind\":null,\"name\":\"allow_resize\"},{\"default\":true,\"kind\":null,\"name\":\"allow_drag\"},{\"default\":[],\"kind\":null,\"name\":\"state\"}]},{\"extends\":null,\"module\":null,\"name\":\"click1\",\"overrides\":[],\"properties\":[{\"default\":\"\",\"kind\":null,\"name\":\"terminal_output\"},{\"default\":\"\",\"kind\":null,\"name\":\"debug_name\"},{\"default\":0,\"kind\":null,\"name\":\"clears\"}]},{\"extends\":null,\"module\":null,\"name\":\"NotificationAreaBase1\",\"overrides\":[],\"properties\":[{\"default\":\"bottom-right\",\"kind\":null,\"name\":\"position\"},{\"default\":0,\"kind\":null,\"name\":\"_clear\"}]},{\"extends\":null,\"module\":null,\"name\":\"NotificationArea1\",\"overrides\":[],\"properties\":[{\"default\":[],\"kind\":null,\"name\":\"notifications\"},{\"default\":\"bottom-right\",\"kind\":null,\"name\":\"position\"},{\"default\":0,\"kind\":null,\"name\":\"_clear\"},{\"default\":[{\"background\":\"#ffc107\",\"icon\":{\"className\":\"fas fa-exclamation-triangle\",\"color\":\"white\",\"tagName\":\"i\"},\"type\":\"warning\"},{\"background\":\"#007bff\",\"icon\":{\"className\":\"fas fa-info-circle\",\"color\":\"white\",\"tagName\":\"i\"},\"type\":\"info\"}],\"kind\":null,\"name\":\"types\"}]},{\"extends\":null,\"module\":null,\"name\":\"Notification\",\"overrides\":[],\"properties\":[{\"default\":null,\"kind\":null,\"name\":\"background\"},{\"default\":3000,\"kind\":null,\"name\":\"duration\"},{\"default\":null,\"kind\":null,\"name\":\"icon\"},{\"default\":\"\",\"kind\":null,\"name\":\"message\"},{\"default\":null,\"kind\":null,\"name\":\"notification_type\"},{\"default\":false,\"kind\":null,\"name\":\"_destroyed\"}]},{\"extends\":null,\"module\":null,\"name\":\"TemplateActions1\",\"overrides\":[],\"properties\":[{\"default\":0,\"kind\":null,\"name\":\"open_modal\"},{\"default\":0,\"kind\":null,\"name\":\"close_modal\"}]},{\"extends\":null,\"module\":null,\"name\":\"MaterialTemplateActions1\",\"overrides\":[],\"properties\":[{\"default\":0,\"kind\":null,\"name\":\"open_modal\"},{\"default\":0,\"kind\":null,\"name\":\"close_modal\"}]}],\"roots\":{\"references\":[{\"attributes\":{\"bottom\":{\"value\":0},\"fill_alpha\":{\"value\":1.0},\"fill_color\":{\"field\":\"Variable\",\"transform\":{\"id\":\"14120\"}},\"hatch_alpha\":{\"value\":1.0},\"hatch_color\":{\"field\":\"Variable\",\"transform\":{\"id\":\"14120\"}},\"hatch_scale\":{\"value\":12.0},\"hatch_weight\":{\"value\":1.0},\"line_alpha\":{\"value\":1.0},\"line_cap\":{\"value\":\"butt\"},\"line_color\":{\"value\":\"black\"},\"line_dash\":{\"value\":[]},\"line_dash_offset\":{\"value\":0},\"line_join\":{\"value\":\"bevel\"},\"line_width\":{\"value\":1},\"top\":{\"field\":\"value\"},\"width\":{\"value\":0.8},\"x\":{\"field\":\"xoffsets\"}},\"id\":\"14129\",\"type\":\"VBar\"},{\"attributes\":{},\"id\":\"14096\",\"type\":\"CategoricalScale\"},{\"attributes\":{\"margin\":[5,5,5,5],\"name\":\"HSpacer16279\",\"sizing_mode\":\"stretch_width\"},\"id\":\"14146\",\"type\":\"Spacer\"},{\"attributes\":{},\"id\":\"14143\",\"type\":\"UnionRenderers\"},{\"attributes\":{\"callback\":null,\"renderers\":[{\"id\":\"14127\"}],\"tags\":[\"hv_created\"],\"tooltips\":[[\"Attendee's Name\",\"@{Attendee_apostrophe_s_Name}\"],[\"Variable\",\"@{Variable}\"],[\"value\",\"@{value}\"]]},\"id\":\"14090\",\"type\":\"HoverTool\"},{\"attributes\":{\"coordinates\":null,\"group\":null,\"text\":\"Top 5 Students who actively completed the attendance within the whole week\",\"text_color\":\"black\",\"text_font_size\":\"12pt\"},\"id\":\"14092\",\"type\":\"Title\"},{\"attributes\":{\"fill_alpha\":{\"value\":0.2},\"fill_color\":{\"field\":\"Variable\",\"transform\":{\"id\":\"14120\"}},\"hatch_alpha\":{\"value\":0.2},\"hatch_color\":{\"field\":\"Variable\",\"transform\":{\"id\":\"14120\"}},\"line_alpha\":{\"value\":0.2},\"top\":{\"field\":\"value\"},\"width\":{\"value\":0.8},\"x\":{\"field\":\"xoffsets\"}},\"id\":\"14126\",\"type\":\"VBar\"},{\"attributes\":{\"factors\":[\"No. of Clock Ins\",\"No. of Clock Outs\"],\"palette\":[\"green\",\"brown\"]},\"id\":\"14120\",\"type\":\"CategoricalColorMapper\"},{\"attributes\":{\"axis_label\":\"Attendee's Names\",\"coordinates\":null,\"formatter\":{\"id\":\"14131\"},\"group\":null,\"major_label_orientation\":0.6108652381980153,\"major_label_policy\":{\"id\":\"14132\"},\"ticker\":{\"id\":\"14101\"}},\"id\":\"14100\",\"type\":\"CategoricalAxis\"},{\"attributes\":{},\"id\":\"14134\",\"type\":\"BasicTickFormatter\"},{\"attributes\":{},\"id\":\"14131\",\"type\":\"CategoricalTickFormatter\"},{\"attributes\":{\"fill_color\":{\"field\":\"Variable\",\"transform\":{\"id\":\"14120\"}},\"hatch_color\":{\"field\":\"Variable\",\"transform\":{\"id\":\"14120\"}},\"top\":{\"field\":\"value\"},\"width\":{\"value\":0.8},\"x\":{\"field\":\"xoffsets\"}},\"id\":\"14124\",\"type\":\"VBar\"},{\"attributes\":{},\"id\":\"14098\",\"type\":\"LinearScale\"},{\"attributes\":{\"end\":7.0,\"reset_end\":7.0,\"reset_start\":0.0,\"tags\":[[[\"value\",\"value\",null]]]},\"id\":\"14089\",\"type\":\"Range1d\"},{\"attributes\":{\"tools\":[{\"id\":\"14090\"},{\"id\":\"14107\"},{\"id\":\"14108\"},{\"id\":\"14109\"},{\"id\":\"14110\"},{\"id\":\"14111\"}]},\"id\":\"14113\",\"type\":\"Toolbar\"},{\"attributes\":{\"below\":[{\"id\":\"14100\"}],\"center\":[{\"id\":\"14102\"},{\"id\":\"14106\"}],\"height\":300,\"left\":[{\"id\":\"14103\"}],\"margin\":[5,5,5,5],\"min_border_bottom\":10,\"min_border_left\":10,\"min_border_right\":10,\"min_border_top\":10,\"renderers\":[{\"id\":\"14127\"}],\"sizing_mode\":\"fixed\",\"title\":{\"id\":\"14092\"},\"toolbar\":{\"id\":\"14113\"},\"width\":700,\"x_range\":{\"id\":\"14088\"},\"x_scale\":{\"id\":\"14096\"},\"y_range\":{\"id\":\"14089\"},\"y_scale\":{\"id\":\"14098\"}},\"id\":\"14091\",\"subtype\":\"Figure\",\"type\":\"Plot\"},{\"attributes\":{\"margin\":[5,5,5,5],\"name\":\"HSpacer16278\",\"sizing_mode\":\"stretch_width\"},\"id\":\"14087\",\"type\":\"Spacer\"},{\"attributes\":{},\"id\":\"14132\",\"type\":\"AllLabels\"},{\"attributes\":{},\"id\":\"14122\",\"type\":\"Selection\"},{\"attributes\":{\"coordinates\":null,\"data_source\":{\"id\":\"14121\"},\"glyph\":{\"id\":\"14124\"},\"group\":null,\"hover_glyph\":null,\"muted_glyph\":{\"id\":\"14126\"},\"nonselection_glyph\":{\"id\":\"14125\"},\"selection_glyph\":{\"id\":\"14129\"},\"view\":{\"id\":\"14128\"}},\"id\":\"14127\",\"type\":\"GlyphRenderer\"},{\"attributes\":{\"axis\":{\"id\":\"14100\"},\"coordinates\":null,\"grid_line_color\":null,\"group\":null,\"ticker\":null},\"id\":\"14102\",\"type\":\"Grid\"},{\"attributes\":{},\"id\":\"14108\",\"type\":\"PanTool\"},{\"attributes\":{},\"id\":\"14101\",\"type\":\"CategoricalTicker\"},{\"attributes\":{\"factors\":[[\"Acodili, Lawrence T.\",\"No. of Clock Ins\"],[\"Acodili, Lawrence T.\",\"No. of Clock Outs\"],[\"Adia, Paul J.\",\"No. of Clock Ins\"],[\"Adia, Paul J.\",\"No. of Clock Outs\"],[\"Caguioa, Thirdy F.\",\"No. of Clock Ins\"],[\"Caguioa, Thirdy F.\",\"No. of Clock Outs\"],[\"Dantes, Peter A.\",\"No. of Clock Ins\"],[\"Dantes, Peter A.\",\"No. of Clock Outs\"],[\"Echevaria, John Leo D.\",\"No. of Clock Ins\"],[\"Echevaria, John Leo D.\",\"No. of Clock Outs\"]],\"tags\":[[[\"Attendee's Name\",\"Attendee's Name\",null],[\"Variable\",\"Variable\",null]]]},\"id\":\"14088\",\"type\":\"FactorRange\"},{\"attributes\":{\"fill_alpha\":{\"value\":0.1},\"fill_color\":{\"field\":\"Variable\",\"transform\":{\"id\":\"14120\"}},\"hatch_alpha\":{\"value\":0.1},\"hatch_color\":{\"field\":\"Variable\",\"transform\":{\"id\":\"14120\"}},\"line_alpha\":{\"value\":0.1},\"top\":{\"field\":\"value\"},\"width\":{\"value\":0.8},\"x\":{\"field\":\"xoffsets\"}},\"id\":\"14125\",\"type\":\"VBar\"},{\"attributes\":{\"axis_label\":\"Clock In & Out\",\"coordinates\":null,\"formatter\":{\"id\":\"14134\"},\"group\":null,\"major_label_policy\":{\"id\":\"14135\"},\"ticker\":{\"id\":\"14104\"}},\"id\":\"14103\",\"type\":\"LinearAxis\"},{\"attributes\":{\"axis\":{\"id\":\"14103\"},\"coordinates\":null,\"dimension\":1,\"grid_line_color\":null,\"group\":null,\"ticker\":null},\"id\":\"14106\",\"type\":\"Grid\"},{\"attributes\":{},\"id\":\"14104\",\"type\":\"BasicTicker\"},{\"attributes\":{},\"id\":\"14109\",\"type\":\"WheelZoomTool\"},{\"attributes\":{\"data\":{\"Attendee_apostrophe_s_Name\":[\"Acodili, Lawrence T.\",\"Adia, Paul J.\",\"Caguioa, Thirdy F.\",\"Dantes, Peter A.\",\"Echevaria, John Leo D.\",\"Acodili, Lawrence T.\",\"Adia, Paul J.\",\"Caguioa, Thirdy F.\",\"Dantes, Peter A.\",\"Echevaria, John Leo D.\"],\"Variable\":[\"No. of Clock Ins\",\"No. of Clock Ins\",\"No. of Clock Ins\",\"No. of Clock Ins\",\"No. of Clock Ins\",\"No. of Clock Outs\",\"No. of Clock Outs\",\"No. of Clock Outs\",\"No. of Clock Outs\",\"No. of Clock Outs\"],\"value\":[7,7,7,7,7,7,7,7,7,7],\"xoffsets\":[[\"Acodili, Lawrence T.\",\"No. of Clock Ins\"],[\"Adia, Paul J.\",\"No. of Clock Ins\"],[\"Caguioa, Thirdy F.\",\"No. of Clock Ins\"],[\"Dantes, Peter A.\",\"No. of Clock Ins\"],[\"Echevaria, John Leo D.\",\"No. of Clock Ins\"],[\"Acodili, Lawrence T.\",\"No. of Clock Outs\"],[\"Adia, Paul J.\",\"No. of Clock Outs\"],[\"Caguioa, Thirdy F.\",\"No. of Clock Outs\"],[\"Dantes, Peter A.\",\"No. of Clock Outs\"],[\"Echevaria, John Leo D.\",\"No. of Clock Outs\"]]},\"selected\":{\"id\":\"14122\"},\"selection_policy\":{\"id\":\"14143\"}},\"id\":\"14121\",\"type\":\"ColumnDataSource\"},{\"attributes\":{},\"id\":\"14107\",\"type\":\"SaveTool\"},{\"attributes\":{\"children\":[{\"id\":\"14087\"},{\"id\":\"14091\"},{\"id\":\"14146\"}],\"margin\":[0,0,0,0],\"name\":\"Row16274\",\"tags\":[\"embedded\"]},\"id\":\"14086\",\"type\":\"Row\"},{\"attributes\":{\"source\":{\"id\":\"14121\"}},\"id\":\"14128\",\"type\":\"CDSView\"},{\"attributes\":{\"overlay\":{\"id\":\"14112\"}},\"id\":\"14110\",\"type\":\"BoxZoomTool\"},{\"attributes\":{},\"id\":\"14135\",\"type\":\"AllLabels\"},{\"attributes\":{},\"id\":\"14111\",\"type\":\"ResetTool\"},{\"attributes\":{\"bottom_units\":\"screen\",\"coordinates\":null,\"fill_alpha\":0.5,\"fill_color\":\"lightgrey\",\"group\":null,\"left_units\":\"screen\",\"level\":\"overlay\",\"line_alpha\":1.0,\"line_color\":\"black\",\"line_dash\":[4,4],\"line_width\":2,\"right_units\":\"screen\",\"syncable\":false,\"top_units\":\"screen\"},\"id\":\"14112\",\"type\":\"BoxAnnotation\"}],\"root_ids\":[\"14086\"]},\"title\":\"Bokeh Application\",\"version\":\"2.4.3\"}};\n",
       "    var render_items = [{\"docid\":\"7ac6a4be-2335-46d3-8da4-af2734d05201\",\"root_ids\":[\"14086\"],\"roots\":{\"14086\":\"50b4c797-3aca-48f6-8e7b-51376d93685b\"}}];\n",
       "    root.Bokeh.embed.embed_items_notebook(docs_json, render_items);\n",
       "  }\n",
       "  if (root.Bokeh !== undefined && root.Bokeh.Panel !== undefined) {\n",
       "    embed_document(root);\n",
       "  } else {\n",
       "    var attempts = 0;\n",
       "    var timer = setInterval(function(root) {\n",
       "      if (root.Bokeh !== undefined && root.Bokeh.Panel !== undefined) {\n",
       "        clearInterval(timer);\n",
       "        embed_document(root);\n",
       "      } else if (document.readyState == \"complete\") {\n",
       "        attempts++;\n",
       "        if (attempts > 200) {\n",
       "          clearInterval(timer);\n",
       "          console.log(\"Bokeh: ERROR: Unable to run BokehJS code because BokehJS library is missing\");\n",
       "        }\n",
       "      }\n",
       "    }, 25, root)\n",
       "  }\n",
       "})(window);</script>"
      ],
      "text/plain": [
       ":Bars   [Attendee's Name,Variable]   (value)"
      ]
     },
     "execution_count": 484,
     "metadata": {
      "application/vnd.holoviews_exec.v0+json": {
       "id": "14086"
      }
     },
     "output_type": "execute_result"
    }
   ],
   "source": [
    "# 7.) Display the TOP 5 Students who actively completed the attendance within the whole week using Bar Chart.\n",
    "\n",
    "main = pd.read_csv(\"D:/Jupyter CSV File/Student_Names.csv\")\n",
    "\n",
    "main = main.groupby(\"Attendee's Name\")[[\"No. of Clock Ins\",\"No. of Clock Outs\"]].sum().sort_values(by=[\"No. of Clock Ins\",\"No. of Clock Outs\"],ascending=False)\n",
    "main = main.head()\n",
    "main.hvplot(kind=\"bar\",xlabel=\"Attendee's Names\", ylabel=\"Clock In & Out\",rot=35,color=[\"green\",\"brown\"],title=\"Top 5 Students who actively completed the attendance within the whole week\")"
   ]
  },
  {
   "cell_type": "markdown",
   "id": "77a4a649",
   "metadata": {},
   "source": [
    "# 8.) Display all attendees on Day 5 based on their clock in time using Scatter Chart."
   ]
  },
  {
   "cell_type": "code",
   "execution_count": 483,
   "id": "aa5b6e38",
   "metadata": {},
   "outputs": [
    {
     "data": {},
     "metadata": {},
     "output_type": "display_data"
    },
    {
     "data": {
      "application/vnd.holoviews_exec.v0+json": "",
      "text/html": [
       "<div id='13976'>\n",
       "  <div class=\"bk-root\" id=\"386b4fec-9221-4488-93a5-d982eb8419e2\" data-root-id=\"13976\"></div>\n",
       "</div>\n",
       "<script type=\"application/javascript\">(function(root) {\n",
       "  function embed_document(root) {\n",
       "    var docs_json = {\"2ad63aed-d7b2-4cb2-a83a-64d24123275e\":{\"defs\":[{\"extends\":null,\"module\":null,\"name\":\"ReactiveHTML1\",\"overrides\":[],\"properties\":[]},{\"extends\":null,\"module\":null,\"name\":\"FlexBox1\",\"overrides\":[],\"properties\":[{\"default\":\"flex-start\",\"kind\":null,\"name\":\"align_content\"},{\"default\":\"flex-start\",\"kind\":null,\"name\":\"align_items\"},{\"default\":\"row\",\"kind\":null,\"name\":\"flex_direction\"},{\"default\":\"wrap\",\"kind\":null,\"name\":\"flex_wrap\"},{\"default\":\"flex-start\",\"kind\":null,\"name\":\"justify_content\"}]},{\"extends\":null,\"module\":null,\"name\":\"GridStack1\",\"overrides\":[],\"properties\":[{\"default\":\"warn\",\"kind\":null,\"name\":\"mode\"},{\"default\":null,\"kind\":null,\"name\":\"ncols\"},{\"default\":null,\"kind\":null,\"name\":\"nrows\"},{\"default\":true,\"kind\":null,\"name\":\"allow_resize\"},{\"default\":true,\"kind\":null,\"name\":\"allow_drag\"},{\"default\":[],\"kind\":null,\"name\":\"state\"}]},{\"extends\":null,\"module\":null,\"name\":\"click1\",\"overrides\":[],\"properties\":[{\"default\":\"\",\"kind\":null,\"name\":\"terminal_output\"},{\"default\":\"\",\"kind\":null,\"name\":\"debug_name\"},{\"default\":0,\"kind\":null,\"name\":\"clears\"}]},{\"extends\":null,\"module\":null,\"name\":\"NotificationAreaBase1\",\"overrides\":[],\"properties\":[{\"default\":\"bottom-right\",\"kind\":null,\"name\":\"position\"},{\"default\":0,\"kind\":null,\"name\":\"_clear\"}]},{\"extends\":null,\"module\":null,\"name\":\"NotificationArea1\",\"overrides\":[],\"properties\":[{\"default\":[],\"kind\":null,\"name\":\"notifications\"},{\"default\":\"bottom-right\",\"kind\":null,\"name\":\"position\"},{\"default\":0,\"kind\":null,\"name\":\"_clear\"},{\"default\":[{\"background\":\"#ffc107\",\"icon\":{\"className\":\"fas fa-exclamation-triangle\",\"color\":\"white\",\"tagName\":\"i\"},\"type\":\"warning\"},{\"background\":\"#007bff\",\"icon\":{\"className\":\"fas fa-info-circle\",\"color\":\"white\",\"tagName\":\"i\"},\"type\":\"info\"}],\"kind\":null,\"name\":\"types\"}]},{\"extends\":null,\"module\":null,\"name\":\"Notification\",\"overrides\":[],\"properties\":[{\"default\":null,\"kind\":null,\"name\":\"background\"},{\"default\":3000,\"kind\":null,\"name\":\"duration\"},{\"default\":null,\"kind\":null,\"name\":\"icon\"},{\"default\":\"\",\"kind\":null,\"name\":\"message\"},{\"default\":null,\"kind\":null,\"name\":\"notification_type\"},{\"default\":false,\"kind\":null,\"name\":\"_destroyed\"}]},{\"extends\":null,\"module\":null,\"name\":\"TemplateActions1\",\"overrides\":[],\"properties\":[{\"default\":0,\"kind\":null,\"name\":\"open_modal\"},{\"default\":0,\"kind\":null,\"name\":\"close_modal\"}]},{\"extends\":null,\"module\":null,\"name\":\"MaterialTemplateActions1\",\"overrides\":[],\"properties\":[{\"default\":0,\"kind\":null,\"name\":\"open_modal\"},{\"default\":0,\"kind\":null,\"name\":\"close_modal\"}]}],\"roots\":{\"references\":[{\"attributes\":{},\"id\":\"13988\",\"type\":\"CategoricalScale\"},{\"attributes\":{},\"id\":\"13991\",\"type\":\"CategoricalTicker\"},{\"attributes\":{\"axis_label\":\"Clock In\",\"coordinates\":null,\"formatter\":{\"id\":\"14022\"},\"group\":null,\"major_label_policy\":{\"id\":\"14023\"},\"ticker\":{\"id\":\"13994\"}},\"id\":\"13993\",\"type\":\"CategoricalAxis\"},{\"attributes\":{\"axis\":{\"id\":\"13993\"},\"coordinates\":null,\"dimension\":1,\"grid_line_color\":null,\"group\":null,\"ticker\":null},\"id\":\"13995\",\"type\":\"Grid\"},{\"attributes\":{\"factors\":[\"Acodili, Lawrence T.\",\"Adia, Paul J.\",\"Almonte, Karl B.\",\"Apolonio, Karl C.\",\"Banderada, Raphael V.\",\"Basalo, Francois L.\",\"Caguioa, Thirdy F.\",\"Catalla, Johann S.\",\"Cerillo, Marideine C.\",\"Dantes, Peter A.\",\"Echevaria, John Leo D.\",\"Elegado, Kynn L.\",\"Gayon, Darrex A.\",\"Layosa, Ian G.\"],\"tags\":[[[\"Attendee's Name\",\"Attendee's Name\",null]]]},\"id\":\"13978\",\"type\":\"FactorRange\"},{\"attributes\":{\"fill_color\":{\"value\":\"red\"},\"hatch_color\":{\"value\":\"red\"},\"line_color\":{\"value\":\"red\"},\"size\":{\"value\":10.0},\"x\":{\"field\":\"Attendee's Name\"},\"y\":{\"field\":\"Clock In\"}},\"id\":\"14012\",\"type\":\"Scatter\"},{\"attributes\":{\"tools\":[{\"id\":\"13980\"},{\"id\":\"13996\"},{\"id\":\"13997\"},{\"id\":\"13998\"},{\"id\":\"13999\"},{\"id\":\"14000\"}]},\"id\":\"14002\",\"type\":\"Toolbar\"},{\"attributes\":{},\"id\":\"14023\",\"type\":\"AllLabels\"},{\"attributes\":{},\"id\":\"13998\",\"type\":\"WheelZoomTool\"},{\"attributes\":{\"fill_alpha\":{\"value\":0.2},\"fill_color\":{\"value\":\"red\"},\"hatch_alpha\":{\"value\":0.2},\"hatch_color\":{\"value\":\"red\"},\"line_alpha\":{\"value\":0.2},\"line_color\":{\"value\":\"red\"},\"size\":{\"value\":10.0},\"x\":{\"field\":\"Attendee's Name\"},\"y\":{\"field\":\"Clock In\"}},\"id\":\"14014\",\"type\":\"Scatter\"},{\"attributes\":{},\"id\":\"14000\",\"type\":\"ResetTool\"},{\"attributes\":{\"angle\":{\"value\":0.0},\"fill_alpha\":{\"value\":1.0},\"fill_color\":{\"value\":\"red\"},\"hatch_alpha\":{\"value\":1.0},\"hatch_color\":{\"value\":\"red\"},\"hatch_scale\":{\"value\":12.0},\"hatch_weight\":{\"value\":1.0},\"line_alpha\":{\"value\":1.0},\"line_cap\":{\"value\":\"butt\"},\"line_color\":{\"value\":\"red\"},\"line_dash\":{\"value\":[]},\"line_dash_offset\":{\"value\":0},\"line_join\":{\"value\":\"bevel\"},\"line_width\":{\"value\":1},\"marker\":{\"value\":\"circle\"},\"size\":{\"value\":10.0},\"x\":{\"field\":\"Attendee's Name\"},\"y\":{\"field\":\"Clock In\"}},\"id\":\"14017\",\"type\":\"Scatter\"},{\"attributes\":{\"factors\":[\"10:18 AM\",\"10:27 AM\",\"10:16 AM\",\"10:25 AM\",\"10:23 AM\",\"10:20 AM\",\"10:22 AM\"],\"tags\":[[[\"Clock In\",\"Clock In\",null]]]},\"id\":\"13979\",\"type\":\"FactorRange\"},{\"attributes\":{},\"id\":\"13997\",\"type\":\"PanTool\"},{\"attributes\":{},\"id\":\"14022\",\"type\":\"CategoricalTickFormatter\"},{\"attributes\":{},\"id\":\"14019\",\"type\":\"CategoricalTickFormatter\"},{\"attributes\":{\"bottom_units\":\"screen\",\"coordinates\":null,\"fill_alpha\":0.5,\"fill_color\":\"lightgrey\",\"group\":null,\"left_units\":\"screen\",\"level\":\"overlay\",\"line_alpha\":1.0,\"line_color\":\"black\",\"line_dash\":[4,4],\"line_width\":2,\"right_units\":\"screen\",\"syncable\":false,\"top_units\":\"screen\"},\"id\":\"14001\",\"type\":\"BoxAnnotation\"},{\"attributes\":{\"fill_alpha\":{\"value\":0.1},\"fill_color\":{\"value\":\"red\"},\"hatch_alpha\":{\"value\":0.1},\"hatch_color\":{\"value\":\"red\"},\"line_alpha\":{\"value\":0.1},\"line_color\":{\"value\":\"red\"},\"size\":{\"value\":10.0},\"x\":{\"field\":\"Attendee's Name\"},\"y\":{\"field\":\"Clock In\"}},\"id\":\"14013\",\"type\":\"Scatter\"},{\"attributes\":{\"coordinates\":null,\"group\":null,\"text\":\"Total Attendees on Day 5 based on Clock In time\",\"text_color\":\"black\",\"text_font_size\":\"12pt\"},\"id\":\"13982\",\"type\":\"Title\"},{\"attributes\":{\"callback\":null,\"renderers\":[{\"id\":\"14015\"}],\"tags\":[\"hv_created\"],\"tooltips\":[[\"Attendee's Name\",\"@{Attendee_apostrophe_s_Name}\"],[\"Clock In\",\"@{Clock_In}\"]]},\"id\":\"13980\",\"type\":\"HoverTool\"},{\"attributes\":{\"axis_label\":\"Attendee's Name\",\"coordinates\":null,\"formatter\":{\"id\":\"14019\"},\"group\":null,\"major_label_orientation\":0.6108652381980153,\"major_label_policy\":{\"id\":\"14020\"},\"ticker\":{\"id\":\"13991\"}},\"id\":\"13990\",\"type\":\"CategoricalAxis\"},{\"attributes\":{\"coordinates\":null,\"data_source\":{\"id\":\"14009\"},\"glyph\":{\"id\":\"14012\"},\"group\":null,\"hover_glyph\":null,\"muted_glyph\":{\"id\":\"14014\"},\"nonselection_glyph\":{\"id\":\"14013\"},\"selection_glyph\":{\"id\":\"14017\"},\"view\":{\"id\":\"14016\"}},\"id\":\"14015\",\"type\":\"GlyphRenderer\"},{\"attributes\":{\"data\":{\"Attendee's Name\":[\"Acodili, Lawrence T.\",\"Adia, Paul J.\",\"Almonte, Karl B.\",\"Apolonio, Karl C.\",\"Banderada, Raphael V.\",\"Basalo, Francois L.\",\"Caguioa, Thirdy F.\",\"Catalla, Johann S.\",\"Cerillo, Marideine C.\",\"Dantes, Peter A.\",\"Echevaria, John Leo D.\",\"Elegado, Kynn L.\",\"Gayon, Darrex A.\",\"Layosa, Ian G.\"],\"Attendee_apostrophe_s_Name\":[\"Acodili, Lawrence T.\",\"Adia, Paul J.\",\"Almonte, Karl B.\",\"Apolonio, Karl C.\",\"Banderada, Raphael V.\",\"Basalo, Francois L.\",\"Caguioa, Thirdy F.\",\"Catalla, Johann S.\",\"Cerillo, Marideine C.\",\"Dantes, Peter A.\",\"Echevaria, John Leo D.\",\"Elegado, Kynn L.\",\"Gayon, Darrex A.\",\"Layosa, Ian G.\"],\"Clock In\":[\"10:18 AM\",\"10:27 AM\",\"10:16 AM\",\"10:25 AM\",\"10:23 AM\",\"10:25 AM\",\"10:20 AM\",\"10:20 AM\",\"10:22 AM\",\"10:22 AM\",\"10:25 AM\",\"10:20 AM\",\"10:16 AM\",\"10:16 AM\"],\"Clock_In\":[\"10:18 AM\",\"10:27 AM\",\"10:16 AM\",\"10:25 AM\",\"10:23 AM\",\"10:25 AM\",\"10:20 AM\",\"10:20 AM\",\"10:22 AM\",\"10:22 AM\",\"10:25 AM\",\"10:20 AM\",\"10:16 AM\",\"10:16 AM\"]},\"selected\":{\"id\":\"14010\"},\"selection_policy\":{\"id\":\"14031\"}},\"id\":\"14009\",\"type\":\"ColumnDataSource\"},{\"attributes\":{},\"id\":\"13986\",\"type\":\"CategoricalScale\"},{\"attributes\":{},\"id\":\"13994\",\"type\":\"CategoricalTicker\"},{\"attributes\":{\"below\":[{\"id\":\"13990\"}],\"center\":[{\"id\":\"13992\"},{\"id\":\"13995\"}],\"height\":500,\"left\":[{\"id\":\"13993\"}],\"margin\":[5,5,5,5],\"min_border_bottom\":10,\"min_border_left\":10,\"min_border_right\":10,\"min_border_top\":10,\"renderers\":[{\"id\":\"14015\"}],\"sizing_mode\":\"fixed\",\"title\":{\"id\":\"13982\"},\"toolbar\":{\"id\":\"14002\"},\"width\":800,\"x_range\":{\"id\":\"13978\"},\"x_scale\":{\"id\":\"13986\"},\"y_range\":{\"id\":\"13979\"},\"y_scale\":{\"id\":\"13988\"}},\"id\":\"13981\",\"subtype\":\"Figure\",\"type\":\"Plot\"},{\"attributes\":{\"margin\":[5,5,5,5],\"name\":\"HSpacer16202\",\"sizing_mode\":\"stretch_width\"},\"id\":\"14034\",\"type\":\"Spacer\"},{\"attributes\":{\"margin\":[5,5,5,5],\"name\":\"HSpacer16201\",\"sizing_mode\":\"stretch_width\"},\"id\":\"13977\",\"type\":\"Spacer\"},{\"attributes\":{\"source\":{\"id\":\"14009\"}},\"id\":\"14016\",\"type\":\"CDSView\"},{\"attributes\":{},\"id\":\"14031\",\"type\":\"UnionRenderers\"},{\"attributes\":{},\"id\":\"13996\",\"type\":\"SaveTool\"},{\"attributes\":{},\"id\":\"14020\",\"type\":\"AllLabels\"},{\"attributes\":{\"overlay\":{\"id\":\"14001\"}},\"id\":\"13999\",\"type\":\"BoxZoomTool\"},{\"attributes\":{},\"id\":\"14010\",\"type\":\"Selection\"},{\"attributes\":{\"children\":[{\"id\":\"13977\"},{\"id\":\"13981\"},{\"id\":\"14034\"}],\"margin\":[0,0,0,0],\"name\":\"Row16197\",\"tags\":[\"embedded\"]},\"id\":\"13976\",\"type\":\"Row\"},{\"attributes\":{\"axis\":{\"id\":\"13990\"},\"coordinates\":null,\"grid_line_color\":null,\"group\":null,\"ticker\":null},\"id\":\"13992\",\"type\":\"Grid\"}],\"root_ids\":[\"13976\"]},\"title\":\"Bokeh Application\",\"version\":\"2.4.3\"}};\n",
       "    var render_items = [{\"docid\":\"2ad63aed-d7b2-4cb2-a83a-64d24123275e\",\"root_ids\":[\"13976\"],\"roots\":{\"13976\":\"386b4fec-9221-4488-93a5-d982eb8419e2\"}}];\n",
       "    root.Bokeh.embed.embed_items_notebook(docs_json, render_items);\n",
       "  }\n",
       "  if (root.Bokeh !== undefined && root.Bokeh.Panel !== undefined) {\n",
       "    embed_document(root);\n",
       "  } else {\n",
       "    var attempts = 0;\n",
       "    var timer = setInterval(function(root) {\n",
       "      if (root.Bokeh !== undefined && root.Bokeh.Panel !== undefined) {\n",
       "        clearInterval(timer);\n",
       "        embed_document(root);\n",
       "      } else if (document.readyState == \"complete\") {\n",
       "        attempts++;\n",
       "        if (attempts > 200) {\n",
       "          clearInterval(timer);\n",
       "          console.log(\"Bokeh: ERROR: Unable to run BokehJS code because BokehJS library is missing\");\n",
       "        }\n",
       "      }\n",
       "    }, 25, root)\n",
       "  }\n",
       "})(window);</script>"
      ],
      "text/plain": [
       ":Scatter   [Attendee's Name]   (Clock In)"
      ]
     },
     "execution_count": 483,
     "metadata": {
      "application/vnd.holoviews_exec.v0+json": {
       "id": "13976"
      }
     },
     "output_type": "execute_result"
    }
   ],
   "source": [
    "# 8.) Display all attendees on Day 5 based on their clock in time using Scatter Chart.\n",
    "\n",
    "df5 = pd.read_csv(\"D:/Jupyter CSV File/Weekly Datasets/Day 5.csv\")\n",
    "df5 = df5.groupby(\"Attendee's Name\")[[\"Clock In\"]].sum()\n",
    "df5.hvplot.scatter(height=500,width=800,rot=35,size=100,color=\"red\",title='Total Attendees on Day 5 based on Clock In time')"
   ]
  },
  {
   "cell_type": "markdown",
   "id": "25e80879",
   "metadata": {},
   "source": [
    "# 9.) Display all attendees on Day 5 based on their clock out time using Line Chart."
   ]
  },
  {
   "cell_type": "code",
   "execution_count": 482,
   "id": "1676725b",
   "metadata": {},
   "outputs": [
    {
     "data": {},
     "metadata": {},
     "output_type": "display_data"
    },
    {
     "data": {
      "application/vnd.holoviews_exec.v0+json": "",
      "text/html": [
       "<div id='13866'>\n",
       "  <div class=\"bk-root\" id=\"19d41ecd-841e-455c-8bdf-4ff8c67a27dc\" data-root-id=\"13866\"></div>\n",
       "</div>\n",
       "<script type=\"application/javascript\">(function(root) {\n",
       "  function embed_document(root) {\n",
       "    var docs_json = {\"fac37ebf-e06e-43aa-bc88-99a0e054d461\":{\"defs\":[{\"extends\":null,\"module\":null,\"name\":\"ReactiveHTML1\",\"overrides\":[],\"properties\":[]},{\"extends\":null,\"module\":null,\"name\":\"FlexBox1\",\"overrides\":[],\"properties\":[{\"default\":\"flex-start\",\"kind\":null,\"name\":\"align_content\"},{\"default\":\"flex-start\",\"kind\":null,\"name\":\"align_items\"},{\"default\":\"row\",\"kind\":null,\"name\":\"flex_direction\"},{\"default\":\"wrap\",\"kind\":null,\"name\":\"flex_wrap\"},{\"default\":\"flex-start\",\"kind\":null,\"name\":\"justify_content\"}]},{\"extends\":null,\"module\":null,\"name\":\"GridStack1\",\"overrides\":[],\"properties\":[{\"default\":\"warn\",\"kind\":null,\"name\":\"mode\"},{\"default\":null,\"kind\":null,\"name\":\"ncols\"},{\"default\":null,\"kind\":null,\"name\":\"nrows\"},{\"default\":true,\"kind\":null,\"name\":\"allow_resize\"},{\"default\":true,\"kind\":null,\"name\":\"allow_drag\"},{\"default\":[],\"kind\":null,\"name\":\"state\"}]},{\"extends\":null,\"module\":null,\"name\":\"click1\",\"overrides\":[],\"properties\":[{\"default\":\"\",\"kind\":null,\"name\":\"terminal_output\"},{\"default\":\"\",\"kind\":null,\"name\":\"debug_name\"},{\"default\":0,\"kind\":null,\"name\":\"clears\"}]},{\"extends\":null,\"module\":null,\"name\":\"NotificationAreaBase1\",\"overrides\":[],\"properties\":[{\"default\":\"bottom-right\",\"kind\":null,\"name\":\"position\"},{\"default\":0,\"kind\":null,\"name\":\"_clear\"}]},{\"extends\":null,\"module\":null,\"name\":\"NotificationArea1\",\"overrides\":[],\"properties\":[{\"default\":[],\"kind\":null,\"name\":\"notifications\"},{\"default\":\"bottom-right\",\"kind\":null,\"name\":\"position\"},{\"default\":0,\"kind\":null,\"name\":\"_clear\"},{\"default\":[{\"background\":\"#ffc107\",\"icon\":{\"className\":\"fas fa-exclamation-triangle\",\"color\":\"white\",\"tagName\":\"i\"},\"type\":\"warning\"},{\"background\":\"#007bff\",\"icon\":{\"className\":\"fas fa-info-circle\",\"color\":\"white\",\"tagName\":\"i\"},\"type\":\"info\"}],\"kind\":null,\"name\":\"types\"}]},{\"extends\":null,\"module\":null,\"name\":\"Notification\",\"overrides\":[],\"properties\":[{\"default\":null,\"kind\":null,\"name\":\"background\"},{\"default\":3000,\"kind\":null,\"name\":\"duration\"},{\"default\":null,\"kind\":null,\"name\":\"icon\"},{\"default\":\"\",\"kind\":null,\"name\":\"message\"},{\"default\":null,\"kind\":null,\"name\":\"notification_type\"},{\"default\":false,\"kind\":null,\"name\":\"_destroyed\"}]},{\"extends\":null,\"module\":null,\"name\":\"TemplateActions1\",\"overrides\":[],\"properties\":[{\"default\":0,\"kind\":null,\"name\":\"open_modal\"},{\"default\":0,\"kind\":null,\"name\":\"close_modal\"}]},{\"extends\":null,\"module\":null,\"name\":\"MaterialTemplateActions1\",\"overrides\":[],\"properties\":[{\"default\":0,\"kind\":null,\"name\":\"open_modal\"},{\"default\":0,\"kind\":null,\"name\":\"close_modal\"}]}],\"roots\":{\"references\":[{\"attributes\":{},\"id\":\"13887\",\"type\":\"PanTool\"},{\"attributes\":{\"axis_label\":\"Clock Out\",\"coordinates\":null,\"formatter\":{\"id\":\"13912\"},\"group\":null,\"major_label_policy\":{\"id\":\"13913\"},\"ticker\":{\"id\":\"13884\"}},\"id\":\"13883\",\"type\":\"CategoricalAxis\"},{\"attributes\":{\"factors\":[\"Acodili, Lawrence T.\",\"Adia, Paul J.\",\"Almonte, Karl B.\",\"Apolonio, Karl C.\",\"Banderada, Raphael V.\",\"Basalo, Francois L.\",\"Caguioa, Thirdy F.\",\"Catalla, Johann S.\",\"Cerillo, Marideine C.\",\"Dantes, Peter A.\",\"Echevaria, John Leo D.\",\"Elegado, Kynn L.\",\"Gayon, Darrex A.\",\"Layosa, Ian G.\"],\"tags\":[[[\"Attendee's Name\",\"Attendee's Name\",null]]]},\"id\":\"13868\",\"type\":\"FactorRange\"},{\"attributes\":{\"line_alpha\":0.1,\"line_color\":\"green\",\"line_width\":2,\"x\":{\"field\":\"Attendee's Name\"},\"y\":{\"field\":\"Clock Out\"}},\"id\":\"13903\",\"type\":\"Line\"},{\"attributes\":{\"bottom_units\":\"screen\",\"coordinates\":null,\"fill_alpha\":0.5,\"fill_color\":\"lightgrey\",\"group\":null,\"left_units\":\"screen\",\"level\":\"overlay\",\"line_alpha\":1.0,\"line_color\":\"black\",\"line_dash\":[4,4],\"line_width\":2,\"right_units\":\"screen\",\"syncable\":false,\"top_units\":\"screen\"},\"id\":\"13891\",\"type\":\"BoxAnnotation\"},{\"attributes\":{},\"id\":\"13912\",\"type\":\"CategoricalTickFormatter\"},{\"attributes\":{},\"id\":\"13913\",\"type\":\"AllLabels\"},{\"attributes\":{\"margin\":[5,5,5,5],\"name\":\"HSpacer16094\",\"sizing_mode\":\"stretch_width\"},\"id\":\"13924\",\"type\":\"Spacer\"},{\"attributes\":{},\"id\":\"13886\",\"type\":\"SaveTool\"},{\"attributes\":{},\"id\":\"13881\",\"type\":\"CategoricalTicker\"},{\"attributes\":{\"line_color\":\"green\",\"line_width\":2,\"x\":{\"field\":\"Attendee's Name\"},\"y\":{\"field\":\"Clock Out\"}},\"id\":\"13907\",\"type\":\"Line\"},{\"attributes\":{\"overlay\":{\"id\":\"13891\"}},\"id\":\"13889\",\"type\":\"BoxZoomTool\"},{\"attributes\":{},\"id\":\"13910\",\"type\":\"AllLabels\"},{\"attributes\":{\"axis\":{\"id\":\"13880\"},\"coordinates\":null,\"grid_line_color\":null,\"group\":null,\"ticker\":null},\"id\":\"13882\",\"type\":\"Grid\"},{\"attributes\":{\"margin\":[5,5,5,5],\"name\":\"HSpacer16093\",\"sizing_mode\":\"stretch_width\"},\"id\":\"13867\",\"type\":\"Spacer\"},{\"attributes\":{},\"id\":\"13884\",\"type\":\"CategoricalTicker\"},{\"attributes\":{},\"id\":\"13900\",\"type\":\"Selection\"},{\"attributes\":{},\"id\":\"13888\",\"type\":\"WheelZoomTool\"},{\"attributes\":{},\"id\":\"13878\",\"type\":\"CategoricalScale\"},{\"attributes\":{\"children\":[{\"id\":\"13867\"},{\"id\":\"13871\"},{\"id\":\"13924\"}],\"margin\":[0,0,0,0],\"name\":\"Row16089\",\"tags\":[\"embedded\"]},\"id\":\"13866\",\"type\":\"Row\"},{\"attributes\":{\"coordinates\":null,\"data_source\":{\"id\":\"13899\"},\"glyph\":{\"id\":\"13902\"},\"group\":null,\"hover_glyph\":null,\"muted_glyph\":{\"id\":\"13904\"},\"nonselection_glyph\":{\"id\":\"13903\"},\"selection_glyph\":{\"id\":\"13907\"},\"view\":{\"id\":\"13906\"}},\"id\":\"13905\",\"type\":\"GlyphRenderer\"},{\"attributes\":{\"axis_label\":\"Attendee's Name\",\"coordinates\":null,\"formatter\":{\"id\":\"13909\"},\"group\":null,\"major_label_orientation\":0.6108652381980153,\"major_label_policy\":{\"id\":\"13910\"},\"ticker\":{\"id\":\"13881\"}},\"id\":\"13880\",\"type\":\"CategoricalAxis\"},{\"attributes\":{\"line_alpha\":0.2,\"line_color\":\"green\",\"line_width\":2,\"x\":{\"field\":\"Attendee's Name\"},\"y\":{\"field\":\"Clock Out\"}},\"id\":\"13904\",\"type\":\"Line\"},{\"attributes\":{},\"id\":\"13876\",\"type\":\"CategoricalScale\"},{\"attributes\":{\"factors\":[\"11:30 AM\",\"11:25 AM\",\"11:35 AM\",\"11:31 AM\",\"11:34 AM\",\"11:36 AM\",\"11:38 AM\",\"11:37 AM\"],\"tags\":[[[\"Clock Out\",\"Clock Out\",null]]]},\"id\":\"13869\",\"type\":\"FactorRange\"},{\"attributes\":{\"tools\":[{\"id\":\"13870\"},{\"id\":\"13886\"},{\"id\":\"13887\"},{\"id\":\"13888\"},{\"id\":\"13889\"},{\"id\":\"13890\"}]},\"id\":\"13892\",\"type\":\"Toolbar\"},{\"attributes\":{\"source\":{\"id\":\"13899\"}},\"id\":\"13906\",\"type\":\"CDSView\"},{\"attributes\":{\"axis\":{\"id\":\"13883\"},\"coordinates\":null,\"dimension\":1,\"grid_line_color\":null,\"group\":null,\"ticker\":null},\"id\":\"13885\",\"type\":\"Grid\"},{\"attributes\":{\"data\":{\"Attendee's Name\":[\"Acodili, Lawrence T.\",\"Adia, Paul J.\",\"Almonte, Karl B.\",\"Apolonio, Karl C.\",\"Banderada, Raphael V.\",\"Basalo, Francois L.\",\"Caguioa, Thirdy F.\",\"Catalla, Johann S.\",\"Cerillo, Marideine C.\",\"Dantes, Peter A.\",\"Echevaria, John Leo D.\",\"Elegado, Kynn L.\",\"Gayon, Darrex A.\",\"Layosa, Ian G.\"],\"Attendee_apostrophe_s_Name\":[\"Acodili, Lawrence T.\",\"Adia, Paul J.\",\"Almonte, Karl B.\",\"Apolonio, Karl C.\",\"Banderada, Raphael V.\",\"Basalo, Francois L.\",\"Caguioa, Thirdy F.\",\"Catalla, Johann S.\",\"Cerillo, Marideine C.\",\"Dantes, Peter A.\",\"Echevaria, John Leo D.\",\"Elegado, Kynn L.\",\"Gayon, Darrex A.\",\"Layosa, Ian G.\"],\"Clock Out\":[\"11:30 AM\",\"11:25 AM\",\"11:35 AM\",\"11:31 AM\",\"11:25 AM\",\"11:34 AM\",\"11:35 AM\",\"11:35 AM\",\"11:36 AM\",\"11:38 AM\",\"11:31 AM\",\"11:35 AM\",\"11:37 AM\",\"11:37 AM\"],\"Clock_Out\":[\"11:30 AM\",\"11:25 AM\",\"11:35 AM\",\"11:31 AM\",\"11:25 AM\",\"11:34 AM\",\"11:35 AM\",\"11:35 AM\",\"11:36 AM\",\"11:38 AM\",\"11:31 AM\",\"11:35 AM\",\"11:37 AM\",\"11:37 AM\"]},\"selected\":{\"id\":\"13900\"},\"selection_policy\":{\"id\":\"13921\"}},\"id\":\"13899\",\"type\":\"ColumnDataSource\"},{\"attributes\":{\"coordinates\":null,\"group\":null,\"text\":\"Total Attendees on Day 5 based on Clock Out time\",\"text_color\":\"black\",\"text_font_size\":\"12pt\"},\"id\":\"13872\",\"type\":\"Title\"},{\"attributes\":{\"callback\":null,\"renderers\":[{\"id\":\"13905\"}],\"tags\":[\"hv_created\"],\"tooltips\":[[\"Attendee's Name\",\"@{Attendee_apostrophe_s_Name}\"],[\"Clock Out\",\"@{Clock_Out}\"]]},\"id\":\"13870\",\"type\":\"HoverTool\"},{\"attributes\":{},\"id\":\"13890\",\"type\":\"ResetTool\"},{\"attributes\":{\"line_color\":\"green\",\"line_width\":2,\"x\":{\"field\":\"Attendee's Name\"},\"y\":{\"field\":\"Clock Out\"}},\"id\":\"13902\",\"type\":\"Line\"},{\"attributes\":{},\"id\":\"13921\",\"type\":\"UnionRenderers\"},{\"attributes\":{},\"id\":\"13909\",\"type\":\"CategoricalTickFormatter\"},{\"attributes\":{\"below\":[{\"id\":\"13880\"}],\"center\":[{\"id\":\"13882\"},{\"id\":\"13885\"}],\"height\":500,\"left\":[{\"id\":\"13883\"}],\"margin\":[5,5,5,5],\"min_border_bottom\":10,\"min_border_left\":10,\"min_border_right\":10,\"min_border_top\":10,\"renderers\":[{\"id\":\"13905\"}],\"sizing_mode\":\"fixed\",\"title\":{\"id\":\"13872\"},\"toolbar\":{\"id\":\"13892\"},\"width\":800,\"x_range\":{\"id\":\"13868\"},\"x_scale\":{\"id\":\"13876\"},\"y_range\":{\"id\":\"13869\"},\"y_scale\":{\"id\":\"13878\"}},\"id\":\"13871\",\"subtype\":\"Figure\",\"type\":\"Plot\"}],\"root_ids\":[\"13866\"]},\"title\":\"Bokeh Application\",\"version\":\"2.4.3\"}};\n",
       "    var render_items = [{\"docid\":\"fac37ebf-e06e-43aa-bc88-99a0e054d461\",\"root_ids\":[\"13866\"],\"roots\":{\"13866\":\"19d41ecd-841e-455c-8bdf-4ff8c67a27dc\"}}];\n",
       "    root.Bokeh.embed.embed_items_notebook(docs_json, render_items);\n",
       "  }\n",
       "  if (root.Bokeh !== undefined && root.Bokeh.Panel !== undefined) {\n",
       "    embed_document(root);\n",
       "  } else {\n",
       "    var attempts = 0;\n",
       "    var timer = setInterval(function(root) {\n",
       "      if (root.Bokeh !== undefined && root.Bokeh.Panel !== undefined) {\n",
       "        clearInterval(timer);\n",
       "        embed_document(root);\n",
       "      } else if (document.readyState == \"complete\") {\n",
       "        attempts++;\n",
       "        if (attempts > 200) {\n",
       "          clearInterval(timer);\n",
       "          console.log(\"Bokeh: ERROR: Unable to run BokehJS code because BokehJS library is missing\");\n",
       "        }\n",
       "      }\n",
       "    }, 25, root)\n",
       "  }\n",
       "})(window);</script>"
      ],
      "text/plain": [
       ":Curve   [Attendee's Name]   (Clock Out)"
      ]
     },
     "execution_count": 482,
     "metadata": {
      "application/vnd.holoviews_exec.v0+json": {
       "id": "13866"
      }
     },
     "output_type": "execute_result"
    }
   ],
   "source": [
    "# 9.) Display all attendees on Day 5 based on their clock out time using Line Chart.\n",
    "\n",
    "df5 = pd.read_csv(\"D:/Jupyter CSV File/Weekly Datasets/Day 5.csv\")\n",
    "df5 = df5.groupby(\"Attendee's Name\")[[\"Clock Out\"]].sum()\n",
    "df5.hvplot.line(height=500,width=800,rot=35,size=100,color=\"green\",title=\"Total Attendees on Day 5 based on Clock Out time\")"
   ]
  },
  {
   "cell_type": "markdown",
   "id": "ae2908c2",
   "metadata": {},
   "source": [
    "# 10.) Display Total Number of Clock Ins and Clock Outs based on Course Type using Stacked Bar Chart."
   ]
  },
  {
   "cell_type": "code",
   "execution_count": 514,
   "id": "c03725d9",
   "metadata": {},
   "outputs": [
    {
     "data": {},
     "metadata": {},
     "output_type": "display_data"
    },
    {
     "data": {
      "application/vnd.holoviews_exec.v0+json": "",
      "text/html": [
       "<div id='16880'>\n",
       "  <div class=\"bk-root\" id=\"4a2a7ff7-bd8d-4188-9d7a-0887ded2bee3\" data-root-id=\"16880\"></div>\n",
       "</div>\n",
       "<script type=\"application/javascript\">(function(root) {\n",
       "  function embed_document(root) {\n",
       "    var docs_json = {\"742ede18-0ae7-46b8-b8db-845b8284709d\":{\"defs\":[{\"extends\":null,\"module\":null,\"name\":\"ReactiveHTML1\",\"overrides\":[],\"properties\":[]},{\"extends\":null,\"module\":null,\"name\":\"FlexBox1\",\"overrides\":[],\"properties\":[{\"default\":\"flex-start\",\"kind\":null,\"name\":\"align_content\"},{\"default\":\"flex-start\",\"kind\":null,\"name\":\"align_items\"},{\"default\":\"row\",\"kind\":null,\"name\":\"flex_direction\"},{\"default\":\"wrap\",\"kind\":null,\"name\":\"flex_wrap\"},{\"default\":\"flex-start\",\"kind\":null,\"name\":\"justify_content\"}]},{\"extends\":null,\"module\":null,\"name\":\"GridStack1\",\"overrides\":[],\"properties\":[{\"default\":\"warn\",\"kind\":null,\"name\":\"mode\"},{\"default\":null,\"kind\":null,\"name\":\"ncols\"},{\"default\":null,\"kind\":null,\"name\":\"nrows\"},{\"default\":true,\"kind\":null,\"name\":\"allow_resize\"},{\"default\":true,\"kind\":null,\"name\":\"allow_drag\"},{\"default\":[],\"kind\":null,\"name\":\"state\"}]},{\"extends\":null,\"module\":null,\"name\":\"click1\",\"overrides\":[],\"properties\":[{\"default\":\"\",\"kind\":null,\"name\":\"terminal_output\"},{\"default\":\"\",\"kind\":null,\"name\":\"debug_name\"},{\"default\":0,\"kind\":null,\"name\":\"clears\"}]},{\"extends\":null,\"module\":null,\"name\":\"NotificationAreaBase1\",\"overrides\":[],\"properties\":[{\"default\":\"bottom-right\",\"kind\":null,\"name\":\"position\"},{\"default\":0,\"kind\":null,\"name\":\"_clear\"}]},{\"extends\":null,\"module\":null,\"name\":\"NotificationArea1\",\"overrides\":[],\"properties\":[{\"default\":[],\"kind\":null,\"name\":\"notifications\"},{\"default\":\"bottom-right\",\"kind\":null,\"name\":\"position\"},{\"default\":0,\"kind\":null,\"name\":\"_clear\"},{\"default\":[{\"background\":\"#ffc107\",\"icon\":{\"className\":\"fas fa-exclamation-triangle\",\"color\":\"white\",\"tagName\":\"i\"},\"type\":\"warning\"},{\"background\":\"#007bff\",\"icon\":{\"className\":\"fas fa-info-circle\",\"color\":\"white\",\"tagName\":\"i\"},\"type\":\"info\"}],\"kind\":null,\"name\":\"types\"}]},{\"extends\":null,\"module\":null,\"name\":\"Notification\",\"overrides\":[],\"properties\":[{\"default\":null,\"kind\":null,\"name\":\"background\"},{\"default\":3000,\"kind\":null,\"name\":\"duration\"},{\"default\":null,\"kind\":null,\"name\":\"icon\"},{\"default\":\"\",\"kind\":null,\"name\":\"message\"},{\"default\":null,\"kind\":null,\"name\":\"notification_type\"},{\"default\":false,\"kind\":null,\"name\":\"_destroyed\"}]},{\"extends\":null,\"module\":null,\"name\":\"TemplateActions1\",\"overrides\":[],\"properties\":[{\"default\":0,\"kind\":null,\"name\":\"open_modal\"},{\"default\":0,\"kind\":null,\"name\":\"close_modal\"}]},{\"extends\":null,\"module\":null,\"name\":\"MaterialTemplateActions1\",\"overrides\":[],\"properties\":[{\"default\":0,\"kind\":null,\"name\":\"open_modal\"},{\"default\":0,\"kind\":null,\"name\":\"close_modal\"}]}],\"roots\":{\"references\":[{\"attributes\":{},\"id\":\"16892\",\"type\":\"LinearScale\"},{\"attributes\":{\"factors\":[\"BSCS\",\"BSEMC\"],\"tags\":[[[\"Course\",\"Course\",null]]]},\"id\":\"16882\",\"type\":\"FactorRange\"},{\"attributes\":{},\"id\":\"16902\",\"type\":\"PanTool\"},{\"attributes\":{},\"id\":\"16916\",\"type\":\"Selection\"},{\"attributes\":{\"bottom\":{\"field\":\"bottom\"},\"fill_color\":{\"field\":\"Variable\",\"transform\":{\"id\":\"16914\"}},\"hatch_color\":{\"field\":\"Variable\",\"transform\":{\"id\":\"16914\"}},\"top\":{\"field\":\"top\"},\"width\":{\"value\":0.8},\"x\":{\"field\":\"Course\"}},\"id\":\"16918\",\"type\":\"VBar\"},{\"attributes\":{},\"id\":\"16901\",\"type\":\"SaveTool\"},{\"attributes\":{},\"id\":\"16930\",\"type\":\"UnionRenderers\"},{\"attributes\":{\"callback\":null,\"renderers\":[{\"id\":\"16921\"}],\"tags\":[\"hv_created\"],\"tooltips\":[[\"Course\",\"@{Course}\"],[\"Variable\",\"@{Variable}\"],[\"value\",\"@{value}\"]]},\"id\":\"16884\",\"type\":\"HoverTool\"},{\"attributes\":{},\"id\":\"16890\",\"type\":\"CategoricalScale\"},{\"attributes\":{\"coordinates\":null,\"group\":null,\"items\":[{\"id\":\"16934\"}],\"location\":[0,0]},\"id\":\"16933\",\"type\":\"Legend\"},{\"attributes\":{\"axis_label\":\"Course Type\",\"coordinates\":null,\"formatter\":{\"id\":\"16928\"},\"group\":null,\"major_label_orientation\":0.6981317007977318,\"major_label_policy\":{\"id\":\"16929\"},\"ticker\":{\"id\":\"16895\"}},\"id\":\"16894\",\"type\":\"CategoricalAxis\"},{\"attributes\":{\"factors\":[\"No. of Clock Ins\",\"No. of Clock Outs\"],\"palette\":[\"green\",\"khaki\"]},\"id\":\"16914\",\"type\":\"CategoricalColorMapper\"},{\"attributes\":{\"margin\":[5,5,5,5],\"name\":\"HSpacer19610\",\"sizing_mode\":\"stretch_width\"},\"id\":\"16952\",\"type\":\"Spacer\"},{\"attributes\":{},\"id\":\"16898\",\"type\":\"BasicTicker\"},{\"attributes\":{\"source\":{\"id\":\"16915\"}},\"id\":\"16922\",\"type\":\"CDSView\"},{\"attributes\":{\"overlay\":{\"id\":\"16906\"}},\"id\":\"16904\",\"type\":\"BoxZoomTool\"},{\"attributes\":{\"tools\":[{\"id\":\"16884\"},{\"id\":\"16901\"},{\"id\":\"16902\"},{\"id\":\"16903\"},{\"id\":\"16904\"},{\"id\":\"16905\"}]},\"id\":\"16907\",\"type\":\"Toolbar\"},{\"attributes\":{},\"id\":\"16929\",\"type\":\"AllLabels\"},{\"attributes\":{\"axis\":{\"id\":\"16897\"},\"coordinates\":null,\"dimension\":1,\"grid_line_color\":null,\"group\":null,\"ticker\":null},\"id\":\"16900\",\"type\":\"Grid\"},{\"attributes\":{\"bottom\":{\"field\":\"bottom\"},\"fill_alpha\":{\"value\":1.0},\"fill_color\":{\"field\":\"Variable\",\"transform\":{\"id\":\"16914\"}},\"hatch_alpha\":{\"value\":1.0},\"hatch_color\":{\"field\":\"Variable\",\"transform\":{\"id\":\"16914\"}},\"hatch_scale\":{\"value\":12.0},\"hatch_weight\":{\"value\":1.0},\"line_alpha\":{\"value\":1.0},\"line_cap\":{\"value\":\"butt\"},\"line_color\":{\"value\":\"black\"},\"line_dash\":{\"value\":[]},\"line_dash_offset\":{\"value\":0},\"line_join\":{\"value\":\"bevel\"},\"line_width\":{\"value\":1},\"top\":{\"field\":\"top\"},\"width\":{\"value\":0.8},\"x\":{\"field\":\"Course\"}},\"id\":\"16935\",\"type\":\"VBar\"},{\"attributes\":{},\"id\":\"16926\",\"type\":\"AllLabels\"},{\"attributes\":{},\"id\":\"16895\",\"type\":\"CategoricalTicker\"},{\"attributes\":{\"bottom\":{\"field\":\"bottom\"},\"fill_alpha\":{\"value\":0.2},\"fill_color\":{\"field\":\"Variable\",\"transform\":{\"id\":\"16914\"}},\"hatch_alpha\":{\"value\":0.2},\"hatch_color\":{\"field\":\"Variable\",\"transform\":{\"id\":\"16914\"}},\"line_alpha\":{\"value\":0.2},\"top\":{\"field\":\"top\"},\"width\":{\"value\":0.8},\"x\":{\"field\":\"Course\"}},\"id\":\"16920\",\"type\":\"VBar\"},{\"attributes\":{},\"id\":\"16925\",\"type\":\"BasicTickFormatter\"},{\"attributes\":{},\"id\":\"16928\",\"type\":\"CategoricalTickFormatter\"},{\"attributes\":{\"axis_label\":\"\",\"coordinates\":null,\"formatter\":{\"id\":\"16925\"},\"group\":null,\"major_label_policy\":{\"id\":\"16926\"},\"ticker\":{\"id\":\"16898\"}},\"id\":\"16897\",\"type\":\"LinearAxis\"},{\"attributes\":{\"bottom\":{\"field\":\"bottom\"},\"fill_alpha\":{\"value\":0.1},\"fill_color\":{\"field\":\"Variable\",\"transform\":{\"id\":\"16914\"}},\"hatch_alpha\":{\"value\":0.1},\"hatch_color\":{\"field\":\"Variable\",\"transform\":{\"id\":\"16914\"}},\"line_alpha\":{\"value\":0.1},\"top\":{\"field\":\"top\"},\"width\":{\"value\":0.8},\"x\":{\"field\":\"Course\"}},\"id\":\"16919\",\"type\":\"VBar\"},{\"attributes\":{\"axis\":{\"id\":\"16894\"},\"coordinates\":null,\"grid_line_color\":null,\"group\":null,\"ticker\":null},\"id\":\"16896\",\"type\":\"Grid\"},{\"attributes\":{\"data\":{\"Course\":[\"BSCS\",\"BSEMC\",\"BSCS\",\"BSEMC\"],\"Variable\":[\"No. of Clock Ins\",\"No. of Clock Ins\",\"No. of Clock Outs\",\"No. of Clock Outs\"],\"bottom\":{\"__ndarray__\":\"AAAAAAAAAAAAAAAAAAAAAAAAAAAAgFRAAAAAAAAAFEA=\",\"dtype\":\"float64\",\"order\":\"little\",\"shape\":[4]},\"top\":{\"__ndarray__\":\"AAAAAACAVEAAAAAAAAAUQAAAAAAAgGRAAAAAAAAAJEA=\",\"dtype\":\"float64\",\"order\":\"little\",\"shape\":[4]},\"value\":[82,5,82,5]},\"selected\":{\"id\":\"16916\"},\"selection_policy\":{\"id\":\"16930\"}},\"id\":\"16915\",\"type\":\"ColumnDataSource\"},{\"attributes\":{\"label\":{\"field\":\"Variable\"},\"renderers\":[{\"id\":\"16921\"}]},\"id\":\"16934\",\"type\":\"LegendItem\"},{\"attributes\":{},\"id\":\"16905\",\"type\":\"ResetTool\"},{\"attributes\":{\"coordinates\":null,\"group\":null,\"text\":\"Total Number of Clock Ins & Clock Outs based on Course Type\",\"text_color\":\"black\",\"text_font_size\":\"12pt\"},\"id\":\"16886\",\"type\":\"Title\"},{\"attributes\":{\"bottom_units\":\"screen\",\"coordinates\":null,\"fill_alpha\":0.5,\"fill_color\":\"lightgrey\",\"group\":null,\"left_units\":\"screen\",\"level\":\"overlay\",\"line_alpha\":1.0,\"line_color\":\"black\",\"line_dash\":[4,4],\"line_width\":2,\"right_units\":\"screen\",\"syncable\":false,\"top_units\":\"screen\"},\"id\":\"16906\",\"type\":\"BoxAnnotation\"},{\"attributes\":{},\"id\":\"16903\",\"type\":\"WheelZoomTool\"},{\"attributes\":{\"margin\":[5,5,5,5],\"name\":\"HSpacer19609\",\"sizing_mode\":\"stretch_width\"},\"id\":\"16881\",\"type\":\"Spacer\"},{\"attributes\":{\"below\":[{\"id\":\"16894\"}],\"center\":[{\"id\":\"16896\"},{\"id\":\"16900\"},{\"id\":\"16933\"}],\"height\":300,\"left\":[{\"id\":\"16897\"}],\"margin\":[5,5,5,5],\"min_border_bottom\":10,\"min_border_left\":10,\"min_border_right\":10,\"min_border_top\":10,\"renderers\":[{\"id\":\"16921\"}],\"right\":[{\"id\":\"16933\"}],\"sizing_mode\":\"fixed\",\"title\":{\"id\":\"16886\"},\"toolbar\":{\"id\":\"16907\"},\"width\":700,\"x_range\":{\"id\":\"16882\"},\"x_scale\":{\"id\":\"16890\"},\"y_range\":{\"id\":\"16883\"},\"y_scale\":{\"id\":\"16892\"}},\"id\":\"16885\",\"subtype\":\"Figure\",\"type\":\"Plot\"},{\"attributes\":{\"coordinates\":null,\"data_source\":{\"id\":\"16915\"},\"glyph\":{\"id\":\"16918\"},\"group\":null,\"hover_glyph\":null,\"muted_glyph\":{\"id\":\"16920\"},\"nonselection_glyph\":{\"id\":\"16919\"},\"selection_glyph\":{\"id\":\"16935\"},\"view\":{\"id\":\"16922\"}},\"id\":\"16921\",\"type\":\"GlyphRenderer\"},{\"attributes\":{\"end\":179.4,\"reset_end\":179.4,\"reset_start\":0.0,\"tags\":[[[\"value\",\"value\",null]]]},\"id\":\"16883\",\"type\":\"Range1d\"},{\"attributes\":{\"children\":[{\"id\":\"16881\"},{\"id\":\"16885\"},{\"id\":\"16952\"}],\"margin\":[0,0,0,0],\"name\":\"Row19605\",\"tags\":[\"embedded\"]},\"id\":\"16880\",\"type\":\"Row\"}],\"root_ids\":[\"16880\"]},\"title\":\"Bokeh Application\",\"version\":\"2.4.3\"}};\n",
       "    var render_items = [{\"docid\":\"742ede18-0ae7-46b8-b8db-845b8284709d\",\"root_ids\":[\"16880\"],\"roots\":{\"16880\":\"4a2a7ff7-bd8d-4188-9d7a-0887ded2bee3\"}}];\n",
       "    root.Bokeh.embed.embed_items_notebook(docs_json, render_items);\n",
       "  }\n",
       "  if (root.Bokeh !== undefined && root.Bokeh.Panel !== undefined) {\n",
       "    embed_document(root);\n",
       "  } else {\n",
       "    var attempts = 0;\n",
       "    var timer = setInterval(function(root) {\n",
       "      if (root.Bokeh !== undefined && root.Bokeh.Panel !== undefined) {\n",
       "        clearInterval(timer);\n",
       "        embed_document(root);\n",
       "      } else if (document.readyState == \"complete\") {\n",
       "        attempts++;\n",
       "        if (attempts > 200) {\n",
       "          clearInterval(timer);\n",
       "          console.log(\"Bokeh: ERROR: Unable to run BokehJS code because BokehJS library is missing\");\n",
       "        }\n",
       "      }\n",
       "    }, 25, root)\n",
       "  }\n",
       "})(window);</script>"
      ],
      "text/plain": [
       ":Bars   [Course,Variable]   (value)"
      ]
     },
     "execution_count": 514,
     "metadata": {
      "application/vnd.holoviews_exec.v0+json": {
       "id": "16880"
      }
     },
     "output_type": "execute_result"
    }
   ],
   "source": [
    "# 10.) Display Total Number of Clock Ins and Clock Outs based on Course Type using Bar Chart.\n",
    "main = pd.read_csv(\"D:/Jupyter CSV File/Student_Names.csv\")\n",
    "main = main.groupby(\"Course\")[[\"No. of Clock Ins\",\"No. of Clock Outs\"]].sum()\n",
    "main.hvplot.bar(color=[\"green\",\"khaki\"],stacked=True,xlabel=\"Course Type\",rot=40,title=\"Total Number of Clock Ins & Clock Outs based on Course Type\")"
   ]
  }
 ],
 "metadata": {
  "kernelspec": {
   "display_name": "Python 3 (ipykernel)",
   "language": "python",
   "name": "python3"
  },
  "language_info": {
   "codemirror_mode": {
    "name": "ipython",
    "version": 3
   },
   "file_extension": ".py",
   "mimetype": "text/x-python",
   "name": "python",
   "nbconvert_exporter": "python",
   "pygments_lexer": "ipython3",
   "version": "3.9.13"
  }
 },
 "nbformat": 4,
 "nbformat_minor": 5
}
